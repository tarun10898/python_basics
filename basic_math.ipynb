{
  "nbformat": 4,
  "nbformat_minor": 0,
  "metadata": {
    "colab": {
      "provenance": [],
      "toc_visible": true,
      "authorship_tag": "ABX9TyMkiqfeNfL32DB75/upFSgP",
      "include_colab_link": true
    },
    "kernelspec": {
      "name": "python3",
      "display_name": "Python 3"
    },
    "language_info": {
      "name": "python"
    }
  },
  "cells": [
    {
      "cell_type": "markdown",
      "metadata": {
        "id": "view-in-github",
        "colab_type": "text"
      },
      "source": [
        "<a href=\"https://colab.research.google.com/github/tarun10898/python_basics/blob/basic_Math/basic_math.ipynb\" target=\"_parent\"><img src=\"https://colab.research.google.com/assets/colab-badge.svg\" alt=\"Open In Colab\"/></a>"
      ]
    },
    {
      "cell_type": "markdown",
      "source": [
        "sum of digit\n",
        "\n",
        "time complexity :\n",
        "- Your loop iterates over each digit in str(n), which means it runs as many times as there are digits in n.\n",
        "- Since the number of digits in n is approximately log₁₀(n) (because a number with d digits is roughly 10^d), the worst case complexity is O(log₁₀(n)).\n",
        "- However, for practical purposes, since the number of digits in an integer is small compared to its magnitude, it is often simplified to O(d).\n",
        "Example:\n",
        "For n = 123456, the function runs 6 iterations because n has 6 digits.\n",
        "\n",
        "space complexity:\n",
        "Space Complexity Analysis:\n",
        "- Storage of Input (n)\n",
        "- The integer n is stored in memory, which takes O(1) space.\n",
        "- String Conversion (str(n))\n",
        "- When converting n to a string (str(n)), it creates a new string object that holds all digits.\n",
        "- The size of this string is O(d), where d is the number of digits in n.\n",
        "- Loop Variables (sum_digits and digit)\n",
        "- sum_digits is just a single integer (O(1)).\n",
        "- digit holds the current digit during iteration (O(1)).\n",
        "Overall Space Complexity:\n",
        "- The largest memory-consuming part is str(n), which takes O(d) space.\n",
        "- Everything else (sum_digits, digit, loop variables) takes O(1) space.\n",
        "- Thus, the final space complexity is O(d), where d = log₁₀(n)\n",
        "\n",
        "\n",
        " Key Difference:\n",
        "- If your loop ran from 1 to n, then the time complexity would be O(n) (linear complexity).\n",
        "- Since your loop runs over the digits of n, its complexity depends on the number of digits d, which is O(d) ≈ O(log₁₀(n)).\n",
        "Example Comparisons:\n",
        "- For n = 12345 (5-digit number), the loop runs 5 times, not 12345 times.\n",
        "- If n = 987654321 (9-digit number), the loop runs 9 times, not 987654321 times.\n",
        "So, the number of iterations is based on the number of digits, not n itself, leading to O(d) ≈ O(log₁₀(n)), not O(n).\n"
      ],
      "metadata": {
        "id": "6aCtBgUdYJNh"
      }
    },
    {
      "cell_type": "code",
      "execution_count": 10,
      "metadata": {
        "colab": {
          "base_uri": "https://localhost:8080/"
        },
        "id": "PDbjZV7SX6dA",
        "outputId": "1c6317a3-b074-4ab2-e70b-d33093e24633"
      },
      "outputs": [
        {
          "output_type": "stream",
          "name": "stdout",
          "text": [
            "enter the value:2345\n",
            "14\n"
          ]
        }
      ],
      "source": [
        "def digit_Sum(n):\n",
        "  sum = 0\n",
        "  for i in str(n):\n",
        "    sum += int(i)\n",
        "  print(sum)\n",
        "\n",
        "\n",
        "n = int(input(\"enter the value:\"))\n",
        "digit_Sum(n)"
      ]
    },
    {
      "cell_type": "code",
      "source": [
        "def digits_Sum1(n):\n",
        "  sum=0\n",
        "  while n>0:\n",
        "    digit = n%10\n",
        "    sum += digit\n",
        "    n= n//10\n",
        "  return sum\n",
        "\n",
        "n = int(input(\"enter the number:\"))\n",
        "print(digits_Sum1(n))"
      ],
      "metadata": {
        "colab": {
          "base_uri": "https://localhost:8080/"
        },
        "id": "Jh9OrbvPiVrY",
        "outputId": "79b0d73a-7387-4581-adf0-74617e2771f5"
      },
      "execution_count": 9,
      "outputs": [
        {
          "output_type": "stream",
          "name": "stdout",
          "text": [
            "enter the number:2345\n",
            "14\n"
          ]
        }
      ]
    },
    {
      "cell_type": "markdown",
      "source": [
        "count of digits\n",
        "\n",
        "time complexity :\n",
        "- Your loop iterates over each digit in str(n), which means it runs as many times as there are digits in n.\n",
        "- Since the number of digits in n is approximately log₁₀(n) (because a number with d digits is roughly 10^d), the worst case complexity is O(log₁₀(n)).\n",
        "- However, for practical purposes, since the number of digits in an integer is small compared to its magnitude, it is often simplified to O(d).\n",
        "Example:\n",
        "For n = 123456, the function runs 6 iterations because n has 6 digits.\n",
        "\n",
        "space complexity:\n",
        "Space Complexity Analysis:\n",
        "- Storage of Input (n)\n",
        "- The integer n is stored in memory, which takes O(1) space.\n",
        "- String Conversion (str(n))\n",
        "- When converting n to a string (str(n)), it creates a new string object that holds all digits.\n",
        "- The size of this string is O(d), where d is the number of digits in n.\n",
        "- Loop Variables (sum_digits and digit)\n",
        "- sum_digits is just a single integer (O(1)).\n",
        "- digit holds the current digit during iteration (O(1)).\n",
        "Overall Space Complexity:\n",
        "- The largest memory-consuming part is str(n), which takes O(d) space.\n",
        "- Everything else (sum_digits, digit, loop variables) takes O(1) space.\n",
        "- Thus, the final space complexity is O(d), where d = log₁₀(n)\n",
        "\n",
        "\n",
        " Key Difference:\n",
        "- If your loop ran from 1 to n, then the time complexity would be O(n) (linear complexity).\n",
        "- Since your loop runs over the digits of n, its complexity depends on the number of digits d, which is O(d) ≈ O(log₁₀(n)).\n",
        "Example Comparisons:\n",
        "- For n = 12345 (5-digit number), the loop runs 5 times, not 12345 times.\n",
        "- If n = 987654321 (9-digit number), the loop runs 9 times, not 987654321 times.\n",
        "So, the number of iterations is based on the number of digits, not n itself, leading to O(d) ≈ O(log₁₀(n)), not O(n).\n"
      ],
      "metadata": {
        "id": "CeOB-Vtvmh05"
      }
    },
    {
      "cell_type": "code",
      "source": [
        "import math\n",
        "def sum_digit(n):\n",
        "    sum = int(math.log10(n)+1)\n",
        "    print(sum)\n",
        "\n",
        "\n",
        "n=int(input(\"enter the number:\"))\n",
        "sum_digit(n)"
      ],
      "metadata": {
        "colab": {
          "base_uri": "https://localhost:8080/"
        },
        "id": "Hn0hQBxMjH17",
        "outputId": "0bee56b6-8829-4670-9f91-9c239be196d2"
      },
      "execution_count": 14,
      "outputs": [
        {
          "output_type": "stream",
          "name": "stdout",
          "text": [
            "enter the number:2345\n",
            "4\n"
          ]
        }
      ]
    },
    {
      "cell_type": "code",
      "source": [
        "n = int(input(\"enter the number:\"))\n",
        "count_digit = len(str(n))\n",
        "print(count_digit)"
      ],
      "metadata": {
        "id": "fBpDKBcsmnyt"
      },
      "execution_count": null,
      "outputs": []
    },
    {
      "cell_type": "code",
      "source": [
        "def count1(n):\n",
        "  count=0\n",
        "  while (n>0):\n",
        "    count += 1\n",
        "    n=n//10\n",
        "  print(count)\n",
        "n= int(input(\"enter the number:\"))\n",
        "count1(n)"
      ],
      "metadata": {
        "colab": {
          "base_uri": "https://localhost:8080/"
        },
        "id": "NFEtzdwCm7Sm",
        "outputId": "71cd911a-1f23-4926-8af3-f9702e0beeb7"
      },
      "execution_count": 19,
      "outputs": [
        {
          "output_type": "stream",
          "name": "stdout",
          "text": [
            "enter the number:2345\n",
            "4\n"
          ]
        }
      ]
    },
    {
      "cell_type": "markdown",
      "source": [
        "Reverse of a number\n",
        "\n",
        "time complexity :\n",
        "- Your loop iterates over each digit in str(n), which means it runs as many times as there are digits in n.\n",
        "- Since the number of digits in n is approximately log₁₀(n) (because a number with d digits is roughly 10^d), the worst case complexity is O(log₁₀(n)).\n",
        "- However, for practical purposes, since the number of digits in an integer is small compared to its magnitude, it is often simplified to O(d).\n",
        "Example:\n",
        "For n = 123456, the function runs 6 iterations because n has 6 digits.\n",
        "\n",
        "space complexity:\n",
        "Space Complexity Analysis:\n",
        "- Storage of Input (n)\n",
        "- The integer n is stored in memory, which takes O(1) space.\n",
        "- String Conversion (str(n))\n",
        "- When converting n to a string (str(n)), it creates a new string object that holds all digits.\n",
        "- The size of this string is O(d), where d is the number of digits in n.\n",
        "- Loop Variables (sum_digits and digit)\n",
        "- sum_digits is just a single integer (O(1)).\n",
        "- digit holds the current digit during iteration (O(1)).\n",
        "Overall Space Complexity:\n",
        "- The largest memory-consuming part is str(n), which takes O(d) space.\n",
        "- Everything else (sum_digits, digit, loop variables) takes O(1) space.\n",
        "- Thus, the final space complexity is O(d), where d = log₁₀(n)\n",
        "\n",
        "\n",
        " Key Difference:\n",
        "- If your loop ran from 1 to n, then the time complexity would be O(n) (linear complexity).\n",
        "- Since your loop runs over the digits of n, its complexity depends on the number of digits d, which is O(d) ≈ O(log₁₀(n)).\n",
        "Example Comparisons:\n",
        "- For n = 12345 (5-digit number), the loop runs 5 times, not 12345 times.\n",
        "- If n = 987654321 (9-digit number), the loop runs 9 times, not 987654321 times.\n",
        "So, the number of iterations is based on the number of digits, not n itself, leading to O(d) ≈ O(log₁₀(n)), not O(n).\n"
      ],
      "metadata": {
        "id": "Sh94kygYozBC"
      }
    },
    {
      "cell_type": "code",
      "source": [
        "def rev(n):\n",
        "  rev =0\n",
        "  while (n>0):\n",
        "    digit =n%10\n",
        "    n = n//10\n",
        "    rev = rev*10 +digit\n",
        "  print(rev)\n",
        "n=int(input(\"enter the number:\"))\n",
        "rev(n)"
      ],
      "metadata": {
        "colab": {
          "base_uri": "https://localhost:8080/"
        },
        "id": "zRw6AbX3oIif",
        "outputId": "5754eff8-d8b9-4c8e-b2a8-7ae0d1feccda"
      },
      "execution_count": 21,
      "outputs": [
        {
          "output_type": "stream",
          "name": "stdout",
          "text": [
            "enter the number:12345\n",
            "54321\n"
          ]
        }
      ]
    },
    {
      "cell_type": "code",
      "source": [
        "def rev(n):\n",
        "  rev = \"\"\n",
        "  for i in str(n):\n",
        "    rev = i + rev\n",
        "  print(int(rev))\n",
        "n=int(input(\"enter the number:\"))\n",
        "rev(n)"
      ],
      "metadata": {
        "colab": {
          "base_uri": "https://localhost:8080/"
        },
        "id": "_PvQprjjpACv",
        "outputId": "55f69a40-d0ea-4e5c-a7a4-74ba949741c5"
      },
      "execution_count": 22,
      "outputs": [
        {
          "output_type": "stream",
          "name": "stdout",
          "text": [
            "enter the number:12345\n",
            "54321\n"
          ]
        }
      ]
    },
    {
      "cell_type": "markdown",
      "source": [
        "Palindrome\n",
        "\n",
        "time complexity :\n",
        "- Your loop iterates over each digit in str(n), which means it runs as many times as there are digits in n.\n",
        "- Since the number of digits in n is approximately log₁₀(n) (because a number with d digits is roughly 10^d), the worst case complexity is O(log₁₀(n)).\n",
        "- However, for practical purposes, since the number of digits in an integer is small compared to its magnitude, it is often simplified to O(d).\n",
        "Example:\n",
        "For n = 123456, the function runs 6 iterations because n has 6 digits.\n",
        "\n",
        "space complexity:\n",
        "Space Complexity Analysis:\n",
        "- Storage of Input (n)\n",
        "- The integer n is stored in memory, which takes O(1) space.\n",
        "- String Conversion (str(n))\n",
        "- When converting n to a string (str(n)), it creates a new string object that holds all digits.\n",
        "- The size of this string is O(d), where d is the number of digits in n.\n",
        "- Loop Variables (sum_digits and digit)\n",
        "- sum_digits is just a single integer (O(1)).\n",
        "- digit holds the current digit during iteration (O(1)).\n",
        "Overall Space Complexity:\n",
        "- The largest memory-consuming part is str(n), which takes O(d) space.\n",
        "- Everything else (sum_digits, digit, loop variables) takes O(1) space.\n",
        "- Thus, the final space complexity is O(d), where d = log₁₀(n)\n",
        "\n",
        "\n",
        " Key Difference:\n",
        "- If your loop ran from 1 to n, then the time complexity would be O(n) (linear complexity).\n",
        "- Since your loop runs over the digits of n, its complexity depends on the number of digits d, which is O(d) ≈ O(log₁₀(n)).\n",
        "Example Comparisons:\n",
        "- For n = 12345 (5-digit number), the loop runs 5 times, not 12345 times.\n",
        "- If n = 987654321 (9-digit number), the loop runs 9 times, not 987654321 times.\n",
        "So, the number of iterations is based on the number of digits, not n itself, leading to O(d) ≈ O(log₁₀(n)), not O(n).\n"
      ],
      "metadata": {
        "id": "bNnyfzxLqL44"
      }
    },
    {
      "cell_type": "code",
      "source": [
        "def palindrome(n):\n",
        "  number = n\n",
        "  rev = 0\n",
        "  while(n>0):\n",
        "    num = n%10\n",
        "    n = n//10\n",
        "    rev = rev*10 + num\n",
        "\n",
        "  if (rev == number):\n",
        "    print(\"palindrome\")\n",
        "  else:\n",
        "    print(\"not palindrome\")\n",
        "n=int(input(\"enter the number:\"))\n",
        "palindrome(n)\n"
      ],
      "metadata": {
        "colab": {
          "base_uri": "https://localhost:8080/"
        },
        "id": "nVBoWTVsqZPM",
        "outputId": "f72b6539-0837-4ec2-8b02-da713f8e859d"
      },
      "execution_count": 29,
      "outputs": [
        {
          "output_type": "stream",
          "name": "stdout",
          "text": [
            "enter the number:121\n",
            "palindrome\n"
          ]
        }
      ]
    },
    {
      "cell_type": "markdown",
      "source": [
        "Amstrong\n",
        "\n",
        "time complexity :\n",
        "- Your loop iterates over each digit in str(n), which means it runs as many times as there are digits in n.\n",
        "- Since the number of digits in n is approximately log₁₀(n) (because a number with d digits is roughly 10^d), the worst case complexity is O(log₁₀(n)).\n",
        "- However, for practical purposes, since the number of digits in an integer is small compared to its magnitude, it is often simplified to O(d).\n",
        "Example:\n",
        "For n = 123456, the function runs 6 iterations because n has 6 digits.\n",
        "\n",
        "space complexity:\n",
        "Space Complexity Analysis:\n",
        "- Storage of Input (n)\n",
        "- The integer n is stored in memory, which takes O(1) space.\n",
        "- String Conversion (str(n))\n",
        "- When converting n to a string (str(n)), it creates a new string object that holds all digits.\n",
        "- The size of this string is O(d), where d is the number of digits in n.\n",
        "- Loop Variables (sum_digits and digit)\n",
        "- sum_digits is just a single integer (O(1)).\n",
        "- digit holds the current digit during iteration (O(1)).\n",
        "Overall Space Complexity:\n",
        "- The largest memory-consuming part is str(n), which takes O(d) space.\n",
        "- Everything else (sum_digits, digit, loop variables) takes O(1) space.\n",
        "- Thus, the final space complexity is O(d), where d = log₁₀(n)\n",
        "\n",
        "\n",
        " Key Difference:\n",
        "- If your loop ran from 1 to n, then the time complexity would be O(n) (linear complexity).\n",
        "- Since your loop runs over the digits of n, its complexity depends on the number of digits d, which is O(d) ≈ O(log₁₀(n)).\n",
        "Example Comparisons:\n",
        "- For n = 12345 (5-digit number), the loop runs 5 times, not 12345 times.\n",
        "- If n = 987654321 (9-digit number), the loop runs 9 times, not 987654321 times.\n",
        "So, the number of iterations is based on the number of digits, not n itself, leading to O(d) ≈ O(log₁₀(n)), not O(n).\n"
      ],
      "metadata": {
        "id": "BQ1DWKtiwT5c"
      }
    },
    {
      "cell_type": "code",
      "source": [
        "def amstrong(n):\n",
        "  number = n\n",
        "  sum = 0\n",
        "  while(n>0):\n",
        "    digit = n%10\n",
        "    n= n//10\n",
        "    sum += digit**3\n",
        "  if (sum == number):\n",
        "    print(\"amstrong\")\n",
        "  else:\n",
        "    print(\"not amstrong\")\n",
        "\n",
        "n=int(input(\"enter the number:\"))\n",
        "amstrong(n)"
      ],
      "metadata": {
        "colab": {
          "base_uri": "https://localhost:8080/"
        },
        "id": "ZgJVGLzIubgt",
        "outputId": "7205424b-0496-4d9f-bd11-d806787f2f33"
      },
      "execution_count": 31,
      "outputs": [
        {
          "output_type": "stream",
          "name": "stdout",
          "text": [
            "enter the number:121\n",
            "not amstrong\n"
          ]
        }
      ]
    },
    {
      "cell_type": "markdown",
      "source": [
        "the time complexity is O(n)"
      ],
      "metadata": {
        "id": "O2NmAIaS39y_"
      }
    },
    {
      "cell_type": "code",
      "source": [
        "def div(n):\n",
        "  list = []\n",
        "  for i in range(n+1):\n",
        "    if(i == 0):\n",
        "      continue\n",
        "    elif(n%i == 0):\n",
        "      list.append(i)\n",
        "  print(list)\n",
        "n=int(input(\"enter the number:\"))\n",
        "div(n)"
      ],
      "metadata": {
        "colab": {
          "base_uri": "https://localhost:8080/"
        },
        "id": "0HxcQNV3wwWl",
        "outputId": "f8378fa9-fa08-4974-dbde-ebcd480217e9"
      },
      "execution_count": 38,
      "outputs": [
        {
          "output_type": "stream",
          "name": "stdout",
          "text": [
            "enter the number:36\n",
            "[1, 2, 3, 4, 6, 9, 12, 18, 36]\n"
          ]
        }
      ]
    },
    {
      "cell_type": "markdown",
      "source": [
        "division\n",
        "\n",
        "Time Complexity Analysis\n",
        "- The loop runs from 1 to √n (int(math.sqrt(n)) + 1).\n",
        "- For each i, you check if it divides n, which takes O(1) time.\n",
        "- If i is a divisor, you add up to two elements (i and n//i) to the list.\n",
        "- Since the loop runs up to √n, the overall time complexity is O(√n).\n",
        "Space Complexity Analysis\n",
        "- You store all divisors in a list. In the worst case (when n is highly composite), this list could contain around O(√n) elements.\n",
        "- Additional space is used for list.sort(), but sorting an already small list is roughly O(√n log(√n)) (which simplifies to O(√n log n)).\n",
        "- The function itself doesn’t use extra recursion or unnecessary allocations.\n",
        "- Thus, space complexity is O(√n).\n",
        "Final Complexity Summary\n",
        "| Operation | Complexity |\n",
        "| Time Complexity | O(√n) |\n",
        "| Space Complexity | O(√n) |\n",
        "\n"
      ],
      "metadata": {
        "id": "jzovwGN13uXZ"
      }
    },
    {
      "cell_type": "code",
      "source": [
        "import math\n",
        "def div1(n):\n",
        "  list=[]\n",
        "  for i in range(1,int((math.sqrt(n)+1))):\n",
        "      if(n%i == 0):\n",
        "        list.append(i)\n",
        "        if(n/i != i):\n",
        "          list.append(n//i)\n",
        "  list.sort()\n",
        "  print(list)\n",
        "n=int(input(\"enter the number:\"))\n",
        "div1(n)"
      ],
      "metadata": {
        "colab": {
          "base_uri": "https://localhost:8080/"
        },
        "id": "pi5jaqla1XrN",
        "outputId": "88bd8da9-be87-4ef0-f38e-df300edbc83c"
      },
      "execution_count": 45,
      "outputs": [
        {
          "output_type": "stream",
          "name": "stdout",
          "text": [
            "enter the number:36\n",
            "[1, 2, 3, 4, 6, 9, 12, 18, 36]\n"
          ]
        }
      ]
    },
    {
      "cell_type": "markdown",
      "source": [
        "Prime numbers:\n",
        "\n",
        "the brute-force approch we will get the timecomplexity and the space complexity will be the O(n)"
      ],
      "metadata": {
        "id": "YGaOAZWy8YDE"
      }
    },
    {
      "cell_type": "code",
      "source": [
        "def prime(n):\n",
        "  for i in range(2,n):\n",
        "    if (n%i == 0):\n",
        "      print(\"not prime\")\n",
        "      break\n",
        "  else:\n",
        "    print(\"prime\")\n",
        "n=int(input(\"enter thge number:\"))\n",
        "prime(n)"
      ],
      "metadata": {
        "colab": {
          "base_uri": "https://localhost:8080/"
        },
        "id": "a8ChnS4W8XVY",
        "outputId": "295db7d4-8071-4d5c-b517-858ddcff7de0"
      },
      "execution_count": 46,
      "outputs": [
        {
          "output_type": "stream",
          "name": "stdout",
          "text": [
            "enter thge number:11\n",
            "prime\n"
          ]
        }
      ]
    },
    {
      "cell_type": "code",
      "source": [
        "from ast import Return\n",
        "import math\n",
        "def prime(n):\n",
        "  if (n<2):\n",
        "    print(\"not prime\")\n",
        "    return\n",
        "  for i in range(2,int(math.sqrt(n)+1)):\n",
        "    if (n%i == 0):\n",
        "      print(\"not prime\")\n",
        "      break\n",
        "  else:\n",
        "    print(\"prime\")\n",
        "n=int(input(\"enter the number:\"))\n",
        "prime(n)"
      ],
      "metadata": {
        "colab": {
          "base_uri": "https://localhost:8080/"
        },
        "id": "0AiccWrpyhw5",
        "outputId": "a4ebc8ac-1361-4919-cef1-fb3e41fb2901"
      },
      "execution_count": 55,
      "outputs": [
        {
          "output_type": "stream",
          "name": "stdout",
          "text": [
            "enter the number:1\n",
            "not prime\n"
          ]
        }
      ]
    },
    {
      "cell_type": "code",
      "source": [
        "import math\n",
        "\n",
        "def find_gcd(numbers):\n",
        "    gcd_value = numbers[0]  # Start with the first number\n",
        "\n",
        "    for num in numbers[1:]:  # Iterate through the remaining numbers\n",
        "        gcd_value = math.gcd(gcd_value, num)  # Compute GCD iteratively\n",
        "\n",
        "    return gcd_value\n",
        "\n",
        "# Taking multiple numbers as input\n",
        "numbers = list(map(int, input(\"Enter numbers separated by spaces: \").split()))\n",
        "\n",
        "# Compute and print the GCD\n",
        "print(\"GCD:\", find_gcd(numbers))"
      ],
      "metadata": {
        "colab": {
          "base_uri": "https://localhost:8080/"
        },
        "id": "nePLJ9E1DH-3",
        "outputId": "04611fac-6e54-45b5-91ea-4adef986455b"
      },
      "execution_count": 58,
      "outputs": [
        {
          "output_type": "stream",
          "name": "stdout",
          "text": [
            "Enter numbers separated by spaces: 34 24 22\n",
            "GCD: 2\n"
          ]
        }
      ]
    },
    {
      "cell_type": "code",
      "source": [
        "import math\n",
        "from functools import reduce  # Efficiently apply GCD across multiple numbers\n",
        "\n",
        "def find_gcd(numbers):\n",
        "    return reduce(math.gcd, numbers)  # Apply Euclidean GCD iteratively\n",
        "\n",
        "# Taking multiple numbers as input\n",
        "numbers = list(map(int, input(\"Enter numbers separated by spaces: \").split()))\n",
        "\n",
        "# Compute and print the optimized GCD\n",
        "print(\"GCD:\", find_gcd(numbers))"
      ],
      "metadata": {
        "colab": {
          "base_uri": "https://localhost:8080/"
        },
        "id": "df_gBxicLMbk",
        "outputId": "b580a0fc-9180-4a27-b3c8-0eb418c31be9"
      },
      "execution_count": 59,
      "outputs": [
        {
          "output_type": "stream",
          "name": "stdout",
          "text": [
            "Enter numbers separated by spaces: 40 20\n",
            "GCD: 20\n"
          ]
        }
      ]
    }
  ]
}