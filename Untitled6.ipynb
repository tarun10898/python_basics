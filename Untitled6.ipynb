{
  "nbformat": 4,
  "nbformat_minor": 0,
  "metadata": {
    "colab": {
      "provenance": [],
      "authorship_tag": "ABX9TyMtPqkRgBwQPX1g2H4lvhHa",
      "include_colab_link": true
    },
    "kernelspec": {
      "name": "python3",
      "display_name": "Python 3"
    },
    "language_info": {
      "name": "python"
    }
  },
  "cells": [
    {
      "cell_type": "markdown",
      "metadata": {
        "id": "view-in-github",
        "colab_type": "text"
      },
      "source": [
        "<a href=\"https://colab.research.google.com/github/tarun10898/python_basics/blob/lists/Untitled6.ipynb\" target=\"_parent\"><img src=\"https://colab.research.google.com/assets/colab-badge.svg\" alt=\"Open In Colab\"/></a>"
      ]
    },
    {
      "cell_type": "markdown",
      "source": [],
      "metadata": {
        "id": "BhUJBfGgoN3V"
      }
    },
    {
      "cell_type": "code",
      "execution_count": 1,
      "metadata": {
        "colab": {
          "base_uri": "https://localhost:8080/"
        },
        "id": "yIrr6RsMn9vf",
        "outputId": "c0620a37-0ac5-4111-c9da-b84157347609"
      },
      "outputs": [
        {
          "output_type": "stream",
          "name": "stdout",
          "text": [
            "10 -> 20 -> 30 -> None\n",
            "10 -> 30 -> None\n"
          ]
        }
      ],
      "source": [
        "class Node:\n",
        "    \"\"\"Represents a single node in the linked list.\"\"\"\n",
        "    def __init__(self, data):\n",
        "        self.data = data\n",
        "        self.next = None\n",
        "\n",
        "class LinkedList:\n",
        "    \"\"\"Represents the linked list with operations.\"\"\"\n",
        "    def __init__(self):\n",
        "        self.head = None\n",
        "\n",
        "    def insert_at_end(self, data):\n",
        "        \"\"\"Inserts a node at the end of the linked list.\"\"\"\n",
        "        new_node = Node(data)\n",
        "        if not self.head:\n",
        "            self.head = new_node\n",
        "            return\n",
        "        temp = self.head\n",
        "        while temp.next:\n",
        "            temp = temp.next\n",
        "        temp.next = new_node\n",
        "\n",
        "    def delete_node(self, key):\n",
        "        \"\"\"Deletes a node with a specific value.\"\"\"\n",
        "        temp = self.head\n",
        "\n",
        "        if temp and temp.data == key:\n",
        "            self.head = temp.next\n",
        "            temp = None\n",
        "            return\n",
        "\n",
        "        prev = None\n",
        "        while temp and temp.data != key:\n",
        "            prev = temp\n",
        "            temp = temp.next\n",
        "\n",
        "        if temp is None:\n",
        "            return\n",
        "\n",
        "        prev.next = temp.next\n",
        "        temp = None\n",
        "\n",
        "    def display(self):\n",
        "        \"\"\"Displays the linked list.\"\"\"\n",
        "        temp = self.head\n",
        "        while temp:\n",
        "            print(temp.data, end=\" -> \")\n",
        "            temp = temp.next\n",
        "        print(\"None\")\n",
        "\n",
        "# Example usage\n",
        "ll = LinkedList()\n",
        "ll.insert_at_end(10)\n",
        "ll.insert_at_end(20)\n",
        "ll.insert_at_end(30)\n",
        "ll.display()\n",
        "\n",
        "ll.delete_node(20)\n",
        "ll.display()"
      ]
    }
  ]
}