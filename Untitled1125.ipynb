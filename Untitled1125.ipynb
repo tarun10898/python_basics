{
  "nbformat": 4,
  "nbformat_minor": 0,
  "metadata": {
    "colab": {
      "provenance": [],
      "authorship_tag": "ABX9TyMRWIUsNfs1VwHgCbsUf1bJ",
      "include_colab_link": true
    },
    "kernelspec": {
      "name": "python3",
      "display_name": "Python 3"
    },
    "language_info": {
      "name": "python"
    }
  },
  "cells": [
    {
      "cell_type": "markdown",
      "metadata": {
        "id": "view-in-github",
        "colab_type": "text"
      },
      "source": [
        "<a href=\"https://colab.research.google.com/github/tarun10898/python_basics/blob/binary-search/Untitled1125.ipynb\" target=\"_parent\"><img src=\"https://colab.research.google.com/assets/colab-badge.svg\" alt=\"Open In Colab\"/></a>"
      ]
    },
    {
      "cell_type": "code",
      "execution_count": null,
      "metadata": {
        "id": "I18EEt3ciHXu"
      },
      "outputs": [],
      "source": [
        "class Node:\n",
        "    def __init__(self, key):\n",
        "        self.left = None\n",
        "        self.right = None\n",
        "        self.val = key\n",
        "\n",
        "class BST:\n",
        "    def __init__(self):\n",
        "        self.root = None\n",
        "\n",
        "    def insert(self, root, key):\n",
        "        \"\"\"Insert a key into BST\"\"\"\n",
        "        if root is None:\n",
        "            return Node(key)\n",
        "        if key < root.val:\n",
        "            root.left = self.insert(root.left, key)\n",
        "        else:\n",
        "            root.right = self.insert(root.right, key)\n",
        "        return root\n",
        "\n",
        "    def search(self, root, key):\n",
        "        \"\"\"Search for a key in BST\"\"\"\n",
        "        if root is None or root.val == key:\n",
        "            return root\n",
        "        if key < root.val:\n",
        "            return self.search(root.left, key)\n",
        "        return self.search(root.right, key)\n",
        "\n",
        "    def delete(self, root, key):\n",
        "        \"\"\"Delete a key from BST\"\"\"\n",
        "        if root is None:\n",
        "            return root\n",
        "\n",
        "        if key < root.val:\n",
        "            root.left = self.delete(root.left, key)\n",
        "        elif key > root.val:\n",
        "            root.right = self.delete(root.right, key)\n",
        "        else:\n",
        "            # Node with only one child or no child\n",
        "            if root.left is None:\n",
        "                return root.right\n",
        "            elif root.right is None:\n",
        "                return root.left\n",
        "\n",
        "            # Node with two children: Get the inorder successor\n",
        "            temp = self.min_value_node(root.right)\n",
        "            root.val = temp.val\n",
        "            root.right = self.delete(root.right, temp.val)\n",
        "\n",
        "        return root\n",
        "\n",
        "    def min_value_node(self, node):\n",
        "        \"\"\"Find the smallest value node\"\"\"\n",
        "        current = node\n",
        "        while current.left is not None:\n",
        "            current = current.left\n",
        "        return current\n",
        "\n",
        "    def inorder_traversal(self, root):\n",
        "        \"\"\"Inorder traversal of the BST\"\"\"\n",
        "        if root:\n",
        "            self.inorder_traversal(root.left)\n",
        "            print(root.val, end=\" \")\n",
        "            self.inorder_traversal(root.right)\n",
        "\n",
        "# Example Usage\n",
        "bst = BST()\n",
        "root = None\n",
        "for val in [50, 30, 70, 20, 40, 60, 80]:\n",
        "    root = bst.insert(root, val)\n",
        "\n",
        "print(\"Inorder Traversal before deletion:\")\n",
        "bst.inorder_traversal(root)  # Output: 20 30 40 50 60 70 80\n",
        "\n",
        "root = bst.delete(root, 50)\n",
        "print(\"\\nInorder Traversal after deleting 50:\")\n",
        "bst.inorder_traversal(root)  # Output: 20 30 40 60 70 80"
      ]
    }
  ]
}