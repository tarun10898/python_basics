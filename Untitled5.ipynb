{
  "nbformat": 4,
  "nbformat_minor": 0,
  "metadata": {
    "colab": {
      "provenance": [],
      "authorship_tag": "ABX9TyNVXTuWO1mJq5gmdnhV3pFl",
      "include_colab_link": true
    },
    "kernelspec": {
      "name": "python3",
      "display_name": "Python 3"
    },
    "language_info": {
      "name": "python"
    }
  },
  "cells": [
    {
      "cell_type": "markdown",
      "metadata": {
        "id": "view-in-github",
        "colab_type": "text"
      },
      "source": [
        "<a href=\"https://colab.research.google.com/github/tarun10898/python_basics/blob/binary-search/Untitled5.ipynb\" target=\"_parent\"><img src=\"https://colab.research.google.com/assets/colab-badge.svg\" alt=\"Open In Colab\"/></a>"
      ]
    },
    {
      "cell_type": "code",
      "execution_count": 1,
      "metadata": {
        "colab": {
          "base_uri": "https://localhost:8080/"
        },
        "id": "vEGjc3xxPi7T",
        "outputId": "02cf568c-87b0-4c22-ddcc-e035687269b0"
      },
      "outputs": [
        {
          "output_type": "stream",
          "name": "stdout",
          "text": [
            "[('Bob', 80), ('David', 85), ('Alice', 90), ('Charlie', 90)]\n"
          ]
        }
      ],
      "source": [
        "from operator import itemgetter\n",
        "\n",
        "def stable_sort_students(students):\n",
        "    return sorted(students, key=itemgetter(1))  # Stable sorting by score\n",
        "\n",
        "# Example Usage\n",
        "students = [(\"Alice\", 90), (\"Bob\", 80), (\"Charlie\", 90), (\"David\", 85)]\n",
        "sorted_students = stable_sort_students(students)\n",
        "\n",
        "print(sorted_students)\n",
        "# Output: [('Bob', 80), ('David', 85), ('Alice', 90), ('Charlie', 90)]\n"
      ]
    }
  ]
}