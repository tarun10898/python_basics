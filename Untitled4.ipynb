{
  "nbformat": 4,
  "nbformat_minor": 0,
  "metadata": {
    "colab": {
      "provenance": [],
      "authorship_tag": "ABX9TyN2/FOPlyq1D035mu9yuPpb",
      "include_colab_link": true
    },
    "kernelspec": {
      "name": "python3",
      "display_name": "Python 3"
    },
    "language_info": {
      "name": "python"
    }
  },
  "cells": [
    {
      "cell_type": "markdown",
      "metadata": {
        "id": "view-in-github",
        "colab_type": "text"
      },
      "source": [
        "<a href=\"https://colab.research.google.com/github/tarun10898/python_basics/blob/sorting101/Untitled4.ipynb\" target=\"_parent\"><img src=\"https://colab.research.google.com/assets/colab-badge.svg\" alt=\"Open In Colab\"/></a>"
      ]
    },
    {
      "cell_type": "code",
      "execution_count": null,
      "metadata": {
        "id": "QDFnP-sNRuFq"
      },
      "outputs": [],
      "source": [
        "def bSearch(l, x):\n",
        "    low = 0\n",
        "    high = len(l) - 1\n",
        "\n",
        "    while low <= high:\n",
        "\n",
        "        mid = (low + high) // 2\n",
        "        if l[mid] == x:\n",
        "            return mid\n",
        "        elif l[mid] < x:\n",
        "            low = mid + 1\n",
        "\n",
        "        else:\n",
        "            high = mid - 1\n",
        "\n",
        "    return -1\n",
        "\n",
        "\n",
        "l = [10, 20, 30, 40, 50, 60]\n",
        "\n",
        "print(30, bSearch(l, 30))\n",
        "print(20, bSearch(l, 20))\n",
        "print(10, bSearch(l, 10))\n",
        "print(60, bSearch(l, 60))\n",
        "print(40, bSearch(l, 40))\n",
        "print(55, bSearch(l, 55))\n",
        "print(-50, bSearch(l, -50))\n"
      ]
    }
  ]
}