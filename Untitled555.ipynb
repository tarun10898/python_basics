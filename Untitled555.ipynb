{
  "nbformat": 4,
  "nbformat_minor": 0,
  "metadata": {
    "colab": {
      "provenance": [],
      "authorship_tag": "ABX9TyMLVtThZ4CEbuG4ZRZ6q5B5",
      "include_colab_link": true
    },
    "kernelspec": {
      "name": "python3",
      "display_name": "Python 3"
    },
    "language_info": {
      "name": "python"
    }
  },
  "cells": [
    {
      "cell_type": "markdown",
      "metadata": {
        "id": "view-in-github",
        "colab_type": "text"
      },
      "source": [
        "<a href=\"https://colab.research.google.com/github/tarun10898/python_basics/blob/hashing/Untitled555.ipynb\" target=\"_parent\"><img src=\"https://colab.research.google.com/assets/colab-badge.svg\" alt=\"Open In Colab\"/></a>"
      ]
    },
    {
      "cell_type": "code",
      "execution_count": null,
      "metadata": {
        "id": "5mZaOM_vFRKc"
      },
      "outputs": [],
      "source": [
        "class DoubleHashing:\n",
        "    def __init__(self, size, prime):\n",
        "        self.size = size\n",
        "        self.prime = prime  # A prime number smaller than the table size\n",
        "        self.table = [None] * size\n",
        "\n",
        "    def hash1(self, key):\n",
        "        return key % self.size\n",
        "\n",
        "    def hash2(self, key):\n",
        "        return self.prime - (key % self.prime)\n",
        "\n",
        "    def insert(self, key):\n",
        "        index = self.hash1(key)\n",
        "        step = self.hash2(key)\n",
        "\n",
        "        while self.table[index] is not None:\n",
        "            index = (index + step) % self.size  # Double hashing step\n",
        "\n",
        "        self.table[index] = key\n",
        "\n",
        "    def display(self):\n",
        "        print(self.table)\n",
        "\n",
        "# Example usage\n",
        "hash_table = DoubleHashing(size=11, prime=7)\n",
        "keys = [18, 41, 22, 44, 59, 32, 31]\n",
        "\n",
        "for key in keys:\n",
        "    hash_table.insert(key)\n",
        "\n",
        "hash_table.display()"
      ]
    }
  ]
}