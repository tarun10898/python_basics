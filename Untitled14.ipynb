{
  "nbformat": 4,
  "nbformat_minor": 0,
  "metadata": {
    "colab": {
      "provenance": [],
      "authorship_tag": "ABX9TyMh62s40rMyH1d/nIW7F6xu",
      "include_colab_link": true
    },
    "kernelspec": {
      "name": "python3",
      "display_name": "Python 3"
    },
    "language_info": {
      "name": "python"
    }
  },
  "cells": [
    {
      "cell_type": "markdown",
      "metadata": {
        "id": "view-in-github",
        "colab_type": "text"
      },
      "source": [
        "<a href=\"https://colab.research.google.com/github/tarun10898/python_basics/blob/basic_Math/Untitled14.ipynb\" target=\"_parent\"><img src=\"https://colab.research.google.com/assets/colab-badge.svg\" alt=\"Open In Colab\"/></a>"
      ]
    },
    {
      "cell_type": "code",
      "execution_count": null,
      "metadata": {
        "colab": {
          "base_uri": "https://localhost:8080/",
          "height": 408
        },
        "id": "8ZZXjJ0dr9yc",
        "outputId": "51841b30-f3d5-4c4a-e044-88953a5ea58a"
      },
      "outputs": [
        {
          "metadata": {
            "tags": null
          },
          "name": "stdout",
          "output_type": "stream",
          "text": [
            "Enter values to add to the linked list (type 'done' to finish):\n",
            "Please enter a valid integer.\n",
            "Please enter a valid integer.\n"
          ]
        },
        {
          "output_type": "error",
          "ename": "KeyboardInterrupt",
          "evalue": "Interrupted by user",
          "traceback": [
            "\u001b[0;31m---------------------------------------------------------------------------\u001b[0m",
            "\u001b[0;31mKeyboardInterrupt\u001b[0m                         Traceback (most recent call last)",
            "\u001b[0;32m/tmp/ipython-input-3-724005831.py\u001b[0m in \u001b[0;36m<cell line: 0>\u001b[0;34m()\u001b[0m\n\u001b[1;32m     17\u001b[0m     \u001b[0mprint\u001b[0m\u001b[0;34m(\u001b[0m\u001b[0;34m\"Enter values to add to the linked list (type 'done' to finish):\"\u001b[0m\u001b[0;34m)\u001b[0m\u001b[0;34m\u001b[0m\u001b[0;34m\u001b[0m\u001b[0m\n\u001b[1;32m     18\u001b[0m     \u001b[0;32mwhile\u001b[0m \u001b[0;32mTrue\u001b[0m\u001b[0;34m:\u001b[0m\u001b[0;34m\u001b[0m\u001b[0;34m\u001b[0m\u001b[0m\n\u001b[0;32m---> 19\u001b[0;31m         \u001b[0muser_input\u001b[0m \u001b[0;34m=\u001b[0m \u001b[0minput\u001b[0m\u001b[0;34m(\u001b[0m\u001b[0;34m\"Enter value: \"\u001b[0m\u001b[0;34m)\u001b[0m\u001b[0;34m\u001b[0m\u001b[0;34m\u001b[0m\u001b[0m\n\u001b[0m\u001b[1;32m     20\u001b[0m         \u001b[0;32mif\u001b[0m \u001b[0muser_input\u001b[0m\u001b[0;34m.\u001b[0m\u001b[0mlower\u001b[0m\u001b[0;34m(\u001b[0m\u001b[0;34m)\u001b[0m \u001b[0;34m==\u001b[0m \u001b[0;34m'done'\u001b[0m\u001b[0;34m:\u001b[0m\u001b[0;34m\u001b[0m\u001b[0;34m\u001b[0m\u001b[0m\n\u001b[1;32m     21\u001b[0m             \u001b[0;32mbreak\u001b[0m\u001b[0;34m\u001b[0m\u001b[0;34m\u001b[0m\u001b[0m\n",
            "\u001b[0;32m/usr/local/lib/python3.11/dist-packages/ipykernel/kernelbase.py\u001b[0m in \u001b[0;36mraw_input\u001b[0;34m(self, prompt)\u001b[0m\n\u001b[1;32m   1175\u001b[0m                 \u001b[0;34m\"raw_input was called, but this frontend does not support input requests.\"\u001b[0m\u001b[0;34m\u001b[0m\u001b[0;34m\u001b[0m\u001b[0m\n\u001b[1;32m   1176\u001b[0m             )\n\u001b[0;32m-> 1177\u001b[0;31m         return self._input_request(\n\u001b[0m\u001b[1;32m   1178\u001b[0m             \u001b[0mstr\u001b[0m\u001b[0;34m(\u001b[0m\u001b[0mprompt\u001b[0m\u001b[0;34m)\u001b[0m\u001b[0;34m,\u001b[0m\u001b[0;34m\u001b[0m\u001b[0;34m\u001b[0m\u001b[0m\n\u001b[1;32m   1179\u001b[0m             \u001b[0mself\u001b[0m\u001b[0;34m.\u001b[0m\u001b[0m_parent_ident\u001b[0m\u001b[0;34m[\u001b[0m\u001b[0;34m\"shell\"\u001b[0m\u001b[0;34m]\u001b[0m\u001b[0;34m,\u001b[0m\u001b[0;34m\u001b[0m\u001b[0;34m\u001b[0m\u001b[0m\n",
            "\u001b[0;32m/usr/local/lib/python3.11/dist-packages/ipykernel/kernelbase.py\u001b[0m in \u001b[0;36m_input_request\u001b[0;34m(self, prompt, ident, parent, password)\u001b[0m\n\u001b[1;32m   1217\u001b[0m             \u001b[0;32mexcept\u001b[0m \u001b[0mKeyboardInterrupt\u001b[0m\u001b[0;34m:\u001b[0m\u001b[0;34m\u001b[0m\u001b[0;34m\u001b[0m\u001b[0m\n\u001b[1;32m   1218\u001b[0m                 \u001b[0;31m# re-raise KeyboardInterrupt, to truncate traceback\u001b[0m\u001b[0;34m\u001b[0m\u001b[0;34m\u001b[0m\u001b[0m\n\u001b[0;32m-> 1219\u001b[0;31m                 \u001b[0;32mraise\u001b[0m \u001b[0mKeyboardInterrupt\u001b[0m\u001b[0;34m(\u001b[0m\u001b[0;34m\"Interrupted by user\"\u001b[0m\u001b[0;34m)\u001b[0m \u001b[0;32mfrom\u001b[0m \u001b[0;32mNone\u001b[0m\u001b[0;34m\u001b[0m\u001b[0;34m\u001b[0m\u001b[0m\n\u001b[0m\u001b[1;32m   1220\u001b[0m             \u001b[0;32mexcept\u001b[0m \u001b[0mException\u001b[0m\u001b[0;34m:\u001b[0m\u001b[0;34m\u001b[0m\u001b[0;34m\u001b[0m\u001b[0m\n\u001b[1;32m   1221\u001b[0m                 \u001b[0mself\u001b[0m\u001b[0;34m.\u001b[0m\u001b[0mlog\u001b[0m\u001b[0;34m.\u001b[0m\u001b[0mwarning\u001b[0m\u001b[0;34m(\u001b[0m\u001b[0;34m\"Invalid Message:\"\u001b[0m\u001b[0;34m,\u001b[0m \u001b[0mexc_info\u001b[0m\u001b[0;34m=\u001b[0m\u001b[0;32mTrue\u001b[0m\u001b[0;34m)\u001b[0m\u001b[0;34m\u001b[0m\u001b[0;34m\u001b[0m\u001b[0m\n",
            "\u001b[0;31mKeyboardInterrupt\u001b[0m: Interrupted by user"
          ]
        }
      ],
      "source": [
        "class Node:\n",
        "    def __init__(self, data1, next1=None):\n",
        "        self.data = data1\n",
        "        self.next = next1\n",
        "\n",
        "def printLL(head):\n",
        "    while head is not None:\n",
        "        print(head.data, end=\" \")\n",
        "        head = head.next\n",
        "\n",
        "def insertHead(head, val):\n",
        "    return Node(val, head)\n",
        "\n",
        "if __name__ == \"__main__\":\n",
        "    head = None  # Start with an empty list\n",
        "\n",
        "    print(\"Enter values to add to the linked list (type 'done' to finish):\")\n",
        "    while True:\n",
        "        user_input = input(\"Enter value: \")\n",
        "        if user_input.lower() == 'done':\n",
        "            break\n",
        "        try:\n",
        "            val = int(user_input)\n",
        "            head = insertHead(head, val)  # Insert at head dynamically\n",
        "        except ValueError:\n",
        "            print(\"Please enter a valid integer.\")\n",
        "\n",
        "    print(\"\\nFinal linked list:\")\n",
        "    printLL(head)\n"
      ]
    },
    {
      "cell_type": "code",
      "source": [
        "class Node:\n",
        "    def __init__(self, data):\n",
        "        self.data = data\n",
        "        self.next = None\n",
        "\n",
        "class Stack:\n",
        "    def __init__(self):\n",
        "        self.top = None  # Points to the top of the stack\n",
        "\n",
        "    def push(self, val):\n",
        "        new_node = Node(val)\n",
        "        new_node.next = self.top\n",
        "        self.top = new_node\n",
        "\n",
        "    def pop(self):\n",
        "        if self.isEmpty():\n",
        "            raise IndexError(\"Stack Underflow\")\n",
        "        popped = self.top.data\n",
        "        self.top = self.top.next\n",
        "        return popped\n",
        "\n",
        "    def peek(self):\n",
        "        if self.isEmpty():\n",
        "            raise IndexError(\"Stack is empty\")\n",
        "        return self.top.data\n",
        "\n",
        "    def isEmpty(self):\n",
        "        return self.top is None\n",
        "\n",
        "    def printStack(self):\n",
        "        temp = self.top\n",
        "        while temp:\n",
        "            print(temp.data, end=\" -> \")\n",
        "            temp = temp.next\n",
        "        print(\"None\")\n",
        "\n",
        "if __name__ == \"__main__\":\n",
        "    s = Stack()\n",
        "\n",
        "    # Testing push\n",
        "    s.push(10)\n",
        "    s.push(20)\n",
        "    s.push(30)\n",
        "    print(\"Stack after pushing 10, 20, 30:\")\n",
        "    s.printStack()\n",
        "\n",
        "    # Testing peek\n",
        "    print(\"Top element (peek):\", s.peek())\n",
        "\n",
        "    # Testing pop\n",
        "    print(\"Popped element:\", s.pop())\n",
        "    print(\"Stack after popping:\")\n",
        "    s.printStack()\n",
        "\n",
        "    # Check isEmpty\n",
        "    print(\"Is stack empty?\", s.isEmpty())"
      ],
      "metadata": {
        "colab": {
          "base_uri": "https://localhost:8080/"
        },
        "id": "iStZBMZbYi8b",
        "outputId": "93a6a119-87da-4ab6-da04-63f40488c378"
      },
      "execution_count": 1,
      "outputs": [
        {
          "output_type": "stream",
          "name": "stdout",
          "text": [
            "Stack after pushing 10, 20, 30:\n",
            "30 -> 20 -> 10 -> None\n",
            "Top element (peek): 30\n",
            "Popped element: 30\n",
            "Stack after popping:\n",
            "20 -> 10 -> None\n",
            "Is stack empty? False\n"
          ]
        }
      ]
    }
  ]
}