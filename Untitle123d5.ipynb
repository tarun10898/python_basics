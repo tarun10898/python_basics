{
  "nbformat": 4,
  "nbformat_minor": 0,
  "metadata": {
    "colab": {
      "provenance": [],
      "authorship_tag": "ABX9TyPYPLt+p4Z7qDbxXpO5N/0Z",
      "include_colab_link": true
    },
    "kernelspec": {
      "name": "python3",
      "display_name": "Python 3"
    },
    "language_info": {
      "name": "python"
    }
  },
  "cells": [
    {
      "cell_type": "markdown",
      "metadata": {
        "id": "view-in-github",
        "colab_type": "text"
      },
      "source": [
        "<a href=\"https://colab.research.google.com/github/tarun10898/python_basics/blob/binary-search/Untitle123d5.ipynb\" target=\"_parent\"><img src=\"https://colab.research.google.com/assets/colab-badge.svg\" alt=\"Open In Colab\"/></a>"
      ]
    },
    {
      "cell_type": "code",
      "execution_count": 1,
      "metadata": {
        "colab": {
          "base_uri": "https://localhost:8080/"
        },
        "id": "w6Cde6fiCaQy",
        "outputId": "d76b8bf6-77d8-44d9-fa61-29770853980c"
      },
      "outputs": [
        {
          "output_type": "stream",
          "name": "stdout",
          "text": [
            "[('Bob', 80), ('David', 85), ('Alice', 90), ('Charlie', 90)]\n"
          ]
        }
      ],
      "source": [
        "students = [(\"Alice\", 90), (\"Bob\", 80), (\"Charlie\", 90), (\"David\", 85)]\n",
        "sorted_students = sorted(students, key=lambda x: x[1])  # Sort by score\n",
        "\n",
        "print(sorted_students)\n",
        "# Output: [('Bob', 80), ('David', 85), ('Alice', 90), ('Charlie', 90)]"
      ]
    }
  ]
}