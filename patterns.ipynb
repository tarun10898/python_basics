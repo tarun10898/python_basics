{
  "nbformat": 4,
  "nbformat_minor": 0,
  "metadata": {
    "colab": {
      "provenance": [],
      "authorship_tag": "ABX9TyO15UschbqFTQG83/o9QIbB",
      "include_colab_link": true
    },
    "kernelspec": {
      "name": "python3",
      "display_name": "Python 3"
    },
    "language_info": {
      "name": "python"
    }
  },
  "cells": [
    {
      "cell_type": "markdown",
      "metadata": {
        "id": "view-in-github",
        "colab_type": "text"
      },
      "source": [
        "<a href=\"https://colab.research.google.com/github/tarun10898/python_basics/blob/main/patterns.ipynb\" target=\"_parent\"><img src=\"https://colab.research.google.com/assets/colab-badge.svg\" alt=\"Open In Colab\"/></a>"
      ]
    },
    {
      "cell_type": "markdown",
      "source": [
        "Pattern 1"
      ],
      "metadata": {
        "id": "1yvldmP1UOBZ"
      }
    },
    {
      "cell_type": "code",
      "execution_count": 22,
      "metadata": {
        "colab": {
          "base_uri": "https://localhost:8080/"
        },
        "id": "UjdiabLUJROZ",
        "outputId": "ecf9f8b2-543b-4d47-fae1-c57d976781d5"
      },
      "outputs": [
        {
          "output_type": "stream",
          "name": "stdout",
          "text": [
            "Enter the inputs separated by space: 3 4 5 7\n",
            "***\n",
            "***\n",
            "***\n",
            "****\n",
            "****\n",
            "****\n",
            "****\n",
            "*****\n",
            "*****\n",
            "*****\n",
            "*****\n",
            "*****\n",
            "*******\n",
            "*******\n",
            "*******\n",
            "*******\n",
            "*******\n",
            "*******\n",
            "*******\n"
          ]
        }
      ],
      "source": [
        "n = list(map(int, input(\"Enter the inputs separated by space: \").split()))\n",
        "\n",
        "def pattern1(n):\n",
        "    for i in range(n):\n",
        "        for j in range(n):\n",
        "            print(\"*\",end=\"\")\n",
        "        print()\n",
        "    return\n",
        "for i in range(len(n)):\n",
        "    pattern1(n[i])"
      ]
    },
    {
      "cell_type": "markdown",
      "source": [
        "Pattern 2"
      ],
      "metadata": {
        "id": "WWtSJIUkUTr4"
      }
    },
    {
      "cell_type": "code",
      "source": [
        "n = list(map(int , input(\"enter the number of inputs with space btw them:\").split()))\n",
        "def pattern2(n):\n",
        "    for i in range(n):\n",
        "        for j in range(i+1):\n",
        "            print(\"*\", end=\" \")\n",
        "        print()\n",
        "for i in range(len(n)):\n",
        "    pattern2(n[i])\n"
      ],
      "metadata": {
        "colab": {
          "base_uri": "https://localhost:8080/"
        },
        "id": "3fzUoDWKQCd1",
        "outputId": "0cce1210-f290-4b46-a0ed-d5a620f3ffdd"
      },
      "execution_count": 26,
      "outputs": [
        {
          "output_type": "stream",
          "name": "stdout",
          "text": [
            "enter the number of inputs with space btw them:2 3 4\n",
            "* \n",
            "* * \n",
            "* \n",
            "* * \n",
            "* * * \n",
            "* \n",
            "* * \n",
            "* * * \n",
            "* * * * \n"
          ]
        }
      ]
    },
    {
      "cell_type": "markdown",
      "source": [
        "Pattern 3"
      ],
      "metadata": {
        "id": "GHlhkx7xZpzN"
      }
    },
    {
      "cell_type": "code",
      "source": [
        "n = list(map(int , input(\"enter the number of inputs with space btw them:\").split()))\n",
        "def pattern2(n):\n",
        "    for i in range(n):\n",
        "        for j in range(i+1):\n",
        "            print( j+1, end=\" \")\n",
        "        print()\n",
        "for i in range(len(n)):\n",
        "    pattern2(n[i])\n"
      ],
      "metadata": {
        "colab": {
          "base_uri": "https://localhost:8080/"
        },
        "id": "j5cGL-OXZvHg",
        "outputId": "558608b2-14a8-40b0-8e44-4529bbaf7d39"
      },
      "execution_count": 32,
      "outputs": [
        {
          "output_type": "stream",
          "name": "stdout",
          "text": [
            "enter the number of inputs with space btw them:2 3 4\n",
            "1 \n",
            "1 2 \n",
            "1 \n",
            "1 2 \n",
            "1 2 3 \n",
            "1 \n",
            "1 2 \n",
            "1 2 3 \n",
            "1 2 3 4 \n"
          ]
        }
      ]
    },
    {
      "cell_type": "markdown",
      "source": [
        "Pattern 4"
      ],
      "metadata": {
        "id": "OHLiZZqWZuUy"
      }
    },
    {
      "cell_type": "code",
      "source": [
        "n = list(map(int , input(\"enter the number of inputs with space btw them:\").split()))\n",
        "def pattern2(n):\n",
        "    for i in range(n):\n",
        "        for j in range(i+1):\n",
        "            print(i+1, end=\" \")\n",
        "        print()\n",
        "for i in range(len(n)):\n",
        "    pattern2(n[i])\n"
      ],
      "metadata": {
        "colab": {
          "base_uri": "https://localhost:8080/"
        },
        "id": "prIb5Th2bDSi",
        "outputId": "9e434036-8836-4a7d-9e96-d05997f6d0ce"
      },
      "execution_count": 33,
      "outputs": [
        {
          "output_type": "stream",
          "name": "stdout",
          "text": [
            "enter the number of inputs with space btw them:2 3 5\n",
            "1 \n",
            "2 2 \n",
            "1 \n",
            "2 2 \n",
            "3 3 3 \n",
            "1 \n",
            "2 2 \n",
            "3 3 3 \n",
            "4 4 4 4 \n",
            "5 5 5 5 5 \n"
          ]
        }
      ]
    },
    {
      "cell_type": "markdown",
      "source": [
        "Pattern 5"
      ],
      "metadata": {
        "id": "-N_HWC6RbYO8"
      }
    },
    {
      "cell_type": "code",
      "source": [
        "n = list(map(int , input(\"enter the number of inputs with space btw them:\").split()))\n",
        "def pattern2(n):\n",
        "    for i in range(n):\n",
        "        for j in range(n-i):\n",
        "            print(\"*\", end=\" \")\n",
        "        print()\n",
        "for i in range(len(n)):\n",
        "    pattern2(n[i])\n"
      ],
      "metadata": {
        "colab": {
          "base_uri": "https://localhost:8080/"
        },
        "id": "VlS1RYACbaGh",
        "outputId": "eeb8e0be-9900-46d5-c6d1-a0c87aa54125"
      },
      "execution_count": 38,
      "outputs": [
        {
          "output_type": "stream",
          "name": "stdout",
          "text": [
            "enter the number of inputs with space btw them:2 3 4\n",
            "* * \n",
            "* \n",
            "* * * \n",
            "* * \n",
            "* \n",
            "* * * * \n",
            "* * * \n",
            "* * \n",
            "* \n"
          ]
        }
      ]
    },
    {
      "cell_type": "markdown",
      "source": [
        "Pattern 6"
      ],
      "metadata": {
        "id": "KIBe6Xw-cxAh"
      }
    },
    {
      "cell_type": "code",
      "source": [
        "n = list(map(int , input(\"enter the number of inputs with space btw them:\").split()))\n",
        "def pattern2(n):\n",
        "    for i in range(n):\n",
        "        for j in range(n-i):\n",
        "            print(j+1, end=\" \")\n",
        "        print()\n",
        "for i in range(len(n)):\n",
        "    pattern2(n[i])\n"
      ],
      "metadata": {
        "colab": {
          "base_uri": "https://localhost:8080/"
        },
        "id": "sUNNFB5hcj38",
        "outputId": "99967002-f321-4ecd-e139-93107db9f109"
      },
      "execution_count": 40,
      "outputs": [
        {
          "output_type": "stream",
          "name": "stdout",
          "text": [
            "enter the number of inputs with space btw them:2 3 4\n",
            "1 2 \n",
            "1 \n",
            "1 2 3 \n",
            "1 2 \n",
            "1 \n",
            "1 2 3 4 \n",
            "1 2 3 \n",
            "1 2 \n",
            "1 \n"
          ]
        }
      ]
    },
    {
      "cell_type": "markdown",
      "source": [
        "Pattern 7"
      ],
      "metadata": {
        "id": "4GhOcqLodhdh"
      }
    },
    {
      "cell_type": "code",
      "source": [
        "def pyramid(n):\n",
        "    for i in range(n):\n",
        "        # Print leading spaces for centering\n",
        "        print(\" \" * (n - i - 1), end=\"\")\n",
        "\n",
        "        # Print stars with spaces in between\n",
        "        print(\"* \" * (i + 1))\n",
        "\n",
        "# Take user input\n",
        "n = list(map(int , input(\"Enter the height of the pyramid: \").split()))\n",
        "print(n)\n",
        "for i in range(len(n)):\n",
        "    pyramid(n[i])\n"
      ],
      "metadata": {
        "colab": {
          "base_uri": "https://localhost:8080/"
        },
        "id": "CAEsf__4djDO",
        "outputId": "4fc4079f-9ef6-45c5-b05c-d1cfae89be96"
      },
      "execution_count": 68,
      "outputs": [
        {
          "output_type": "stream",
          "name": "stdout",
          "text": [
            "Enter the height of the pyramid: 6\n",
            "[6]\n",
            "     * \n",
            "    * * \n",
            "   * * * \n",
            "  * * * * \n",
            " * * * * * \n",
            "* * * * * * \n"
          ]
        }
      ]
    },
    {
      "cell_type": "markdown",
      "source": [
        "Pattern 8"
      ],
      "metadata": {
        "id": "7lALT9sxqhI5"
      }
    },
    {
      "cell_type": "code",
      "source": [
        "def pattern8(n):\n",
        "    for i in range(n):\n",
        "        print(\"*\" * (n - i - 1), end=\" \")\n",
        "    print(\" \")\n",
        "\n",
        "# Taking multiple integer inputs\n",
        "n = list(map(int, input(\"Enter the values by providing space: \").split()))\n",
        "\n",
        "# Loop through each value and generate pattern\n",
        "for num in n:\n",
        "    pattern8(num)"
      ],
      "metadata": {
        "colab": {
          "base_uri": "https://localhost:8080/"
        },
        "id": "DdEXlixPqgOA",
        "outputId": "423a0ac5-5d8b-41a7-c64c-929f578ba9cc"
      },
      "execution_count": 74,
      "outputs": [
        {
          "output_type": "stream",
          "name": "stdout",
          "text": [
            "Enter the values by providing space: 2 3\n",
            "*   \n",
            "** *   \n"
          ]
        }
      ]
    }
  ]
}