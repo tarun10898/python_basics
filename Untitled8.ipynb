{
  "nbformat": 4,
  "nbformat_minor": 0,
  "metadata": {
    "colab": {
      "provenance": [],
      "authorship_tag": "ABX9TyN9U/FU/wOnd0NFQwktbzbA",
      "include_colab_link": true
    },
    "kernelspec": {
      "name": "python3",
      "display_name": "Python 3"
    },
    "language_info": {
      "name": "python"
    }
  },
  "cells": [
    {
      "cell_type": "markdown",
      "metadata": {
        "id": "view-in-github",
        "colab_type": "text"
      },
      "source": [
        "<a href=\"https://colab.research.google.com/github/tarun10898/python_basics/blob/binary-search/Untitled8.ipynb\" target=\"_parent\"><img src=\"https://colab.research.google.com/assets/colab-badge.svg\" alt=\"Open In Colab\"/></a>"
      ]
    },
    {
      "cell_type": "code",
      "execution_count": 1,
      "metadata": {
        "colab": {
          "base_uri": "https://localhost:8080/"
        },
        "id": "sZd2Yeung1QM",
        "outputId": "14d45a87-298a-4ed7-aeb9-9cef40199fa0"
      },
      "outputs": [
        {
          "output_type": "stream",
          "name": "stdout",
          "text": [
            "1 -> [2, 3]\n",
            "2 -> [1, 4]\n",
            "3 -> [1, 5]\n",
            "4 -> [2]\n",
            "5 -> [3]\n"
          ]
        }
      ],
      "source": [
        "class Graph:\n",
        "    def __init__(self):\n",
        "        self.graph = {}\n",
        "\n",
        "    def add_edge(self, node1, node2):\n",
        "        \"\"\"Adding edges to an undirected graph\"\"\"\n",
        "        if node1 not in self.graph:\n",
        "            self.graph[node1] = []\n",
        "        if node2 not in self.graph:\n",
        "            self.graph[node2] = []\n",
        "        self.graph[node1].append(node2)\n",
        "        self.graph[node2].append(node1)\n",
        "\n",
        "    def display_graph(self):\n",
        "        \"\"\"Prints adjacency list representation\"\"\"\n",
        "        for node in self.graph:\n",
        "            print(f\"{node} -> {self.graph[node]}\")\n",
        "\n",
        "# Example Usage\n",
        "g = Graph()\n",
        "g.add_edge(1, 2)\n",
        "g.add_edge(1, 3)\n",
        "g.add_edge(2, 4)\n",
        "g.add_edge(3, 5)\n",
        "\n",
        "g.display_graph()"
      ]
    }
  ]
}