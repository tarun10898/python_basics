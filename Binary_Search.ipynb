{
  "nbformat": 4,
  "nbformat_minor": 0,
  "metadata": {
    "colab": {
      "provenance": [],
      "authorship_tag": "ABX9TyOr+yB9r9DoHGKR7z3R79kz",
      "include_colab_link": true
    },
    "kernelspec": {
      "name": "python3",
      "display_name": "Python 3"
    },
    "language_info": {
      "name": "python"
    }
  },
  "cells": [
    {
      "cell_type": "markdown",
      "metadata": {
        "id": "view-in-github",
        "colab_type": "text"
      },
      "source": [
        "<a href=\"https://colab.research.google.com/github/tarun10898/python_basics/blob/binary-search/Binary_Search.ipynb\" target=\"_parent\"><img src=\"https://colab.research.google.com/assets/colab-badge.svg\" alt=\"Open In Colab\"/></a>"
      ]
    },
    {
      "cell_type": "code",
      "execution_count": 1,
      "metadata": {
        "colab": {
          "base_uri": "https://localhost:8080/"
        },
        "id": "7B5rpy7Az0k2",
        "outputId": "c07cfd3a-8493-437d-ec83-de0f2d7d36fd"
      },
      "outputs": [
        {
          "output_type": "stream",
          "name": "stdout",
          "text": [
            "First Occurrence =  8  \n",
            "Last Occurrence =  9\n"
          ]
        }
      ],
      "source": [
        "# Python 3 program to find first and\n",
        "# last occurrence of an elements in\n",
        "# given sorted array\n",
        "\n",
        "\n",
        "# Function for finding first and last\n",
        "# occurrence of an elements\n",
        "def findFirstAndLast(arr, n, x):\n",
        "\tfirst = -1\n",
        "\tlast = -1\n",
        "\tfor i in range(0, n):\n",
        "\t\tif (x != arr[i]):\n",
        "\t\t\tcontinue\n",
        "\t\tif (first == -1):\n",
        "\t\t\tfirst = i\n",
        "\t\tlast = i\n",
        "\n",
        "\tif (first != -1):\n",
        "\t\tprint(\"First Occurrence = \", first,\n",
        "\t\t\t\" \\nLast Occurrence = \", last)\n",
        "\telse:\n",
        "\t\tprint(\"Not Found\")\n",
        "\n",
        "\n",
        "# Driver code\n",
        "arr = [1, 2, 2, 2, 2, 3, 4, 7, 8, 8]\n",
        "n = len(arr)\n",
        "x = 8\n",
        "findFirstAndLast(arr, n, x)"
      ]
    }
  ]
}