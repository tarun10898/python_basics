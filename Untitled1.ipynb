{
  "nbformat": 4,
  "nbformat_minor": 0,
  "metadata": {
    "colab": {
      "provenance": [],
      "authorship_tag": "ABX9TyMJsB4G/e4M2rLa0EAZWD1r",
      "include_colab_link": true
    },
    "kernelspec": {
      "name": "python3",
      "display_name": "Python 3"
    },
    "language_info": {
      "name": "python"
    }
  },
  "cells": [
    {
      "cell_type": "markdown",
      "metadata": {
        "id": "view-in-github",
        "colab_type": "text"
      },
      "source": [
        "<a href=\"https://colab.research.google.com/github/tarun10898/python_basics/blob/basic-code/Untitled1.ipynb\" target=\"_parent\"><img src=\"https://colab.research.google.com/assets/colab-badge.svg\" alt=\"Open In Colab\"/></a>"
      ]
    },
    {
      "cell_type": "code",
      "execution_count": null,
      "metadata": {
        "id": "QXDXTKHSGK_H"
      },
      "outputs": [],
      "source": []
    },
    {
      "cell_type": "code",
      "source": [
        "print(\"helo world\")"
      ],
      "metadata": {
        "colab": {
          "base_uri": "https://localhost:8080/"
        },
        "id": "7UCjCP8HGOcj",
        "outputId": "776ff66c-532c-4784-8d67-23c1c5485d04"
      },
      "execution_count": 1,
      "outputs": [
        {
          "output_type": "stream",
          "name": "stdout",
          "text": [
            "helo world\n"
          ]
        }
      ]
    },
    {
      "cell_type": "code",
      "source": [
        "name = input(\"enter the name\")\n",
        "if name ==\"Tarun\":\n",
        "    print(\"hello tarun\")\n",
        "else:\n",
        "  print(\"hello stranger\")\n"
      ],
      "metadata": {
        "colab": {
          "base_uri": "https://localhost:8080/"
        },
        "id": "AIwtPYaSGVmA",
        "outputId": "9604e105-3f76-4399-f279-364820382037"
      },
      "execution_count": 5,
      "outputs": [
        {
          "output_type": "stream",
          "name": "stdout",
          "text": [
            "enter the nameben10\n",
            "hello stranger\n"
          ]
        }
      ]
    },
    {
      "cell_type": "code",
      "source": [
        "color = input(\"enter the colour you like\")\n",
        "if color == \"Red\":\n",
        "  print(\"entered color is red\")\n",
        "elif color == \"blue\":\n",
        "  print(\"entered color ois blue\")\n",
        "elif color == \"green\":\n",
        "  print(\"entered color is green\")\n",
        "else:\n",
        "  print(\"color is not there in the list\")\n"
      ],
      "metadata": {
        "colab": {
          "base_uri": "https://localhost:8080/"
        },
        "id": "4CqOEpRvHETC",
        "outputId": "f9bd7434-6d01-4ff6-ada5-994f7efc0c81"
      },
      "execution_count": 6,
      "outputs": [
        {
          "output_type": "stream",
          "name": "stdout",
          "text": [
            "enter the colour you likeRed\n",
            "entered color is red\n"
          ]
        }
      ]
    },
    {
      "cell_type": "code",
      "source": [
        "a = 0\n",
        "b = 20\n",
        "if a and b:\n",
        "  print(\"True\")\n",
        "else:\n",
        "  print(\"False\")"
      ],
      "metadata": {
        "colab": {
          "base_uri": "https://localhost:8080/"
        },
        "id": "IPI-rs8UH7ag",
        "outputId": "30bdba95-2dc7-4e35-e483-8053d4d40291"
      },
      "execution_count": 8,
      "outputs": [
        {
          "output_type": "stream",
          "name": "stdout",
          "text": [
            "False\n"
          ]
        }
      ]
    },
    {
      "cell_type": "code",
      "source": [
        "a= 20\n",
        "b=0\n",
        "if a or b:\n",
        "  print(\"True\")\n",
        "else:\n",
        "  print(\"False\")"
      ],
      "metadata": {
        "colab": {
          "base_uri": "https://localhost:8080/"
        },
        "id": "NOKpDC2pISHE",
        "outputId": "ccd345ab-476f-4824-f5fb-6ad383982a14"
      },
      "execution_count": 9,
      "outputs": [
        {
          "output_type": "stream",
          "name": "stdout",
          "text": [
            "True\n"
          ]
        }
      ]
    },
    {
      "cell_type": "code",
      "source": [
        "list(range(1,8))"
      ],
      "metadata": {
        "colab": {
          "base_uri": "https://localhost:8080/"
        },
        "id": "YiW7bMltJQLi",
        "outputId": "454cfb1c-78e5-4985-affc-e8e906cad2ef"
      },
      "execution_count": 10,
      "outputs": [
        {
          "output_type": "execute_result",
          "data": {
            "text/plain": [
              "[1, 2, 3, 4, 5, 6, 7]"
            ]
          },
          "metadata": {},
          "execution_count": 10
        }
      ]
    },
    {
      "cell_type": "code",
      "source": [
        "a=[]\n",
        "for numbers in range(1,8):\n",
        "  a.append(numbers**2)\n",
        "print(a)\n"
      ],
      "metadata": {
        "colab": {
          "base_uri": "https://localhost:8080/"
        },
        "id": "lI3abQ4yJViC",
        "outputId": "3babd7b4-f2ec-48d4-851a-774de99fe1c0"
      },
      "execution_count": 13,
      "outputs": [
        {
          "output_type": "stream",
          "name": "stdout",
          "text": [
            "[1, 4, 9, 16, 25, 36, 49]\n"
          ]
        }
      ]
    },
    {
      "cell_type": "code",
      "source": [
        "for letters in \"tarun\":\n",
        "  print(letters)"
      ],
      "metadata": {
        "colab": {
          "base_uri": "https://localhost:8080/"
        },
        "id": "NeA09hC3KF7I",
        "outputId": "ebb2dcf7-2d0b-4f69-d0e0-4c22cdbc3dd3"
      },
      "execution_count": 14,
      "outputs": [
        {
          "output_type": "stream",
          "name": "stdout",
          "text": [
            "t\n",
            "a\n",
            "r\n",
            "u\n",
            "n\n"
          ]
        }
      ]
    },
    {
      "cell_type": "code",
      "source": [
        "range(7)"
      ],
      "metadata": {
        "colab": {
          "base_uri": "https://localhost:8080/"
        },
        "id": "Sl5gSSsVMK8D",
        "outputId": "bbf9700b-e972-4b56-8c76-2813ea85c9d9"
      },
      "execution_count": 15,
      "outputs": [
        {
          "output_type": "execute_result",
          "data": {
            "text/plain": [
              "range(0, 7)"
            ]
          },
          "metadata": {},
          "execution_count": 15
        }
      ]
    },
    {
      "cell_type": "code",
      "source": [
        "list(range(7))"
      ],
      "metadata": {
        "colab": {
          "base_uri": "https://localhost:8080/"
        },
        "id": "kgcL_AXBMILi",
        "outputId": "7ed3cd60-4073-467d-d35d-1b126562d209"
      },
      "execution_count": 16,
      "outputs": [
        {
          "output_type": "execute_result",
          "data": {
            "text/plain": [
              "[0, 1, 2, 3, 4, 5, 6]"
            ]
          },
          "metadata": {},
          "execution_count": 16
        }
      ]
    },
    {
      "cell_type": "code",
      "source": [
        "list(range(1,7,2))"
      ],
      "metadata": {
        "colab": {
          "base_uri": "https://localhost:8080/"
        },
        "id": "nxwtF6zEMU4y",
        "outputId": "5d555610-fd4b-451d-b35d-35caffb97236"
      },
      "execution_count": 17,
      "outputs": [
        {
          "output_type": "execute_result",
          "data": {
            "text/plain": [
              "[1, 3, 5]"
            ]
          },
          "metadata": {},
          "execution_count": 17
        }
      ]
    },
    {
      "cell_type": "code",
      "source": [
        "for i, char in enumerate(\"WonkyNerd\"):\n",
        "    print(i, char)\n",
        ""
      ],
      "metadata": {
        "colab": {
          "base_uri": "https://localhost:8080/"
        },
        "id": "SdVC9QY-Me2O",
        "outputId": "c770e6e0-5894-4108-bcd6-98b9d6ef839e"
      },
      "execution_count": 18,
      "outputs": [
        {
          "output_type": "stream",
          "name": "stdout",
          "text": [
            "0 W\n",
            "1 o\n",
            "2 n\n",
            "3 k\n",
            "4 y\n",
            "5 N\n",
            "6 e\n",
            "7 r\n",
            "8 d\n"
          ]
        }
      ]
    },
    {
      "cell_type": "code",
      "source": [
        "for i, char in enumerate(list(range(100))):\n",
        "    if char == 50:\n",
        "        print(f\"index of 50 is: {i} and the charater is {char}\" )"
      ],
      "metadata": {
        "colab": {
          "base_uri": "https://localhost:8080/"
        },
        "id": "ij646FOaMwJr",
        "outputId": "60cd9ab9-4427-4ec3-9348-fe63b246525b"
      },
      "execution_count": 25,
      "outputs": [
        {
          "output_type": "stream",
          "name": "stdout",
          "text": [
            "index of 50 is: 50 and the charater is 50\n"
          ]
        }
      ]
    },
    {
      "cell_type": "code",
      "source": [
        "for i,char in enumerate(range(10)):\n",
        "  if char == 5:\n",
        "    print(f\"the index of 5 is {i}\")\n",
        "  print(\"the values of the i {} and the value of the char {}\".format(i,char))\n"
      ],
      "metadata": {
        "colab": {
          "base_uri": "https://localhost:8080/"
        },
        "id": "eKsFCjf5O7Jn",
        "outputId": "e3d63f97-412e-4f3f-93a1-e74c183f38ab"
      },
      "execution_count": 33,
      "outputs": [
        {
          "output_type": "stream",
          "name": "stdout",
          "text": [
            "the values of the i 0 and the value of the char 0\n",
            "the values of the i 1 and the value of the char 1\n",
            "the values of the i 2 and the value of the char 2\n",
            "the values of the i 3 and the value of the char 3\n",
            "the values of the i 4 and the value of the char 4\n",
            "the index of 5 is 5\n",
            "the values of the i 5 and the value of the char 5\n",
            "the values of the i 6 and the value of the char 6\n",
            "the values of the i 7 and the value of the char 7\n",
            "the values of the i 8 and the value of the char 8\n",
            "the values of the i 9 and the value of the char 9\n"
          ]
        }
      ]
    },
    {
      "cell_type": "code",
      "source": [
        "items =[\"apples\",\"watermelons\", \"oranges\"]\n",
        "print(items)"
      ],
      "metadata": {
        "colab": {
          "base_uri": "https://localhost:8080/"
        },
        "id": "N_OocwShRO_e",
        "outputId": "f7dac0ee-3d01-46f8-fe29-aefad4508deb"
      },
      "execution_count": 34,
      "outputs": [
        {
          "output_type": "stream",
          "name": "stdout",
          "text": [
            "['apples', 'watermelons', 'oranges']\n"
          ]
        }
      ]
    },
    {
      "cell_type": "code",
      "source": [
        "mylist = (list[(\"hello\",\"world\",\"tarun\")])\n",
        "print( mylist )"
      ],
      "metadata": {
        "colab": {
          "base_uri": "https://localhost:8080/"
        },
        "id": "7ptwI1JgSehz",
        "outputId": "8b11ee8b-ecc5-4615-935d-d2f8b803f467"
      },
      "execution_count": 38,
      "outputs": [
        {
          "output_type": "stream",
          "name": "stdout",
          "text": [
            "list['hello', 'world', 'tarun']\n"
          ]
        }
      ]
    },
    {
      "cell_type": "code",
      "source": [
        "items = [\"apple\",\"ball\",\"cat\",\"doll\"]\n",
        "print(items[0])\n",
        "print(items[3])"
      ],
      "metadata": {
        "colab": {
          "base_uri": "https://localhost:8080/"
        },
        "id": "UuJ8IictS21n",
        "outputId": "e7d6a0d1-f055-4ac2-e9aa-ab39e69a4fed"
      },
      "execution_count": 39,
      "outputs": [
        {
          "output_type": "stream",
          "name": "stdout",
          "text": [
            "apple\n",
            "doll\n"
          ]
        }
      ]
    },
    {
      "cell_type": "code",
      "source": [
        "items = [\"apple\",\"ball\",\"cat\",\"doll\"]\n",
        "items.append(\"elephant\")\n",
        "print(items[1:3])"
      ],
      "metadata": {
        "colab": {
          "base_uri": "https://localhost:8080/"
        },
        "id": "ieM3FG3wTI5c",
        "outputId": "87666982-0923-417c-a050-e01eab219f2a"
      },
      "execution_count": 42,
      "outputs": [
        {
          "output_type": "stream",
          "name": "stdout",
          "text": [
            "['ball', 'cat']\n"
          ]
        }
      ]
    },
    {
      "cell_type": "code",
      "source": [
        "numbers = [0, 1, 2, 3, 4, 5, 6, 7, 8, 9]\n",
        "\n",
        "print(numbers[:5])    # First 5 elements → [0, 1, 2, 3, 4]\n",
        "print(numbers[3:])    # From index 3 to the end → [3, 4, 5, 6, 7, 8, 9]\n",
        "print(numbers[::2])   # Every second element → [0, 2, 4, 6, 8]\n",
        "print(numbers[::-1])  # Reversed list → [9, 8, 7, 6, 5, 4, 3, 2, 1, 0]"
      ],
      "metadata": {
        "colab": {
          "base_uri": "https://localhost:8080/"
        },
        "id": "QpWTlbOxT6wc",
        "outputId": "69cc5950-14e3-4ba0-9894-375850ceb1fb"
      },
      "execution_count": 43,
      "outputs": [
        {
          "output_type": "stream",
          "name": "stdout",
          "text": [
            "[0, 1, 2, 3, 4]\n",
            "[3, 4, 5, 6, 7, 8, 9]\n",
            "[0, 2, 4, 6, 8]\n",
            "[9, 8, 7, 6, 5, 4, 3, 2, 1, 0]\n"
          ]
        }
      ]
    },
    {
      "cell_type": "code",
      "source": [
        "matric = [[1,2,3],[2,4,56]]\n",
        "print(matric)\n",
        "type(matric)"
      ],
      "metadata": {
        "colab": {
          "base_uri": "https://localhost:8080/"
        },
        "id": "AmeKKK4TUVlk",
        "outputId": "aebd470d-90cf-4b4f-f1e3-47b25f342633"
      },
      "execution_count": 45,
      "outputs": [
        {
          "output_type": "stream",
          "name": "stdout",
          "text": [
            "[[1, 2, 3], [2, 4, 56]]\n"
          ]
        },
        {
          "output_type": "execute_result",
          "data": {
            "text/plain": [
              "list"
            ]
          },
          "metadata": {},
          "execution_count": 45
        }
      ]
    },
    {
      "cell_type": "code",
      "source": [
        "n=[1,2,3,4,5,6,7]\n",
        "power = [s**2 for s in n]\n",
        "print(power)"
      ],
      "metadata": {
        "colab": {
          "base_uri": "https://localhost:8080/"
        },
        "id": "70qQ3g5xU95d",
        "outputId": "b1e72863-b827-413b-ca7e-49c70d297bf0"
      },
      "execution_count": 46,
      "outputs": [
        {
          "output_type": "stream",
          "name": "stdout",
          "text": [
            "[1, 4, 9, 16, 25, 36, 49]\n"
          ]
        }
      ]
    },
    {
      "cell_type": "code",
      "source": [
        "person = {\n",
        "    'name': \"Tarun\",\n",
        "    'Age': 23,\n",
        "    \"address\": 239-9876896e5,\n",
        "}\n",
        "print(person)\n",
        "\n",
        "type(person)"
      ],
      "metadata": {
        "colab": {
          "base_uri": "https://localhost:8080/"
        },
        "id": "IPJfKdCag8ch",
        "outputId": "c0f14448-e3f1-4e85-ce61-bf66dceb3ac8"
      },
      "execution_count": 50,
      "outputs": [
        {
          "output_type": "stream",
          "name": "stdout",
          "text": [
            "{'name': 'Tarun', 'Age': 23, 'address': -987689599761.0}\n"
          ]
        },
        {
          "output_type": "execute_result",
          "data": {
            "text/plain": [
              "dict"
            ]
          },
          "metadata": {},
          "execution_count": 50
        }
      ]
    },
    {
      "cell_type": "code",
      "source": [
        "person = {\n",
        "    'name': \"Tarun\",\n",
        "    'Age': 23,\n",
        "    \"address\": 239-9876896e5,\n",
        "}\n"
      ],
      "metadata": {
        "id": "_PPRaNlrkPSv"
      },
      "execution_count": 52,
      "outputs": []
    },
    {
      "cell_type": "code",
      "source": [
        "person.values()\n",
        "print(person[\"address\"])"
      ],
      "metadata": {
        "colab": {
          "base_uri": "https://localhost:8080/"
        },
        "id": "n9R-mC5NkxiJ",
        "outputId": "38d079f4-c28c-4d7c-c4d9-cb6f8df344ca"
      },
      "execution_count": 58,
      "outputs": [
        {
          "output_type": "stream",
          "name": "stdout",
          "text": [
            "-987689599761.0\n"
          ]
        }
      ]
    },
    {
      "cell_type": "code",
      "source": [],
      "metadata": {
        "id": "2k1_WuzRlCeu"
      },
      "execution_count": null,
      "outputs": []
    },
    {
      "cell_type": "markdown",
      "source": [],
      "metadata": {
        "id": "GHePWJlukxBv"
      }
    }
  ]
}