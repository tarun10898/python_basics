{
  "nbformat": 4,
  "nbformat_minor": 0,
  "metadata": {
    "colab": {
      "provenance": [],
      "authorship_tag": "ABX9TyMLIddt8b7MZ4SESfigcDzE",
      "include_colab_link": true
    },
    "kernelspec": {
      "name": "python3",
      "display_name": "Python 3"
    },
    "language_info": {
      "name": "python"
    }
  },
  "cells": [
    {
      "cell_type": "markdown",
      "metadata": {
        "id": "view-in-github",
        "colab_type": "text"
      },
      "source": [
        "<a href=\"https://colab.research.google.com/github/tarun10898/python_basics/blob/sorting101/sorting101.ipynb\" target=\"_parent\"><img src=\"https://colab.research.google.com/assets/colab-badge.svg\" alt=\"Open In Colab\"/></a>"
      ]
    },
    {
      "cell_type": "code",
      "execution_count": 1,
      "metadata": {
        "id": "CKHKdRUA3f3h"
      },
      "outputs": [],
      "source": [
        "class Solution:\n",
        "    def insertionSort(self, arr):\n",
        "        n = len(arr)\n",
        "        for i in range(1, n):\n",
        "            x = arr[i]\n",
        "            j = i - 1\n",
        "            while j >= 0 and x < arr[j]:  # Corrected `&&` to `and`\n",
        "                arr[j + 1] = arr[j]\n",
        "                j -= 1\n",
        "            arr[j + 1] = x  # Inserting `x` in the correct position"
      ]
    }
  ]
}