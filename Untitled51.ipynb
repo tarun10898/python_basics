{
  "nbformat": 4,
  "nbformat_minor": 0,
  "metadata": {
    "colab": {
      "provenance": [],
      "authorship_tag": "ABX9TyNvsCp5obBTEzFQWoqA662H",
      "include_colab_link": true
    },
    "kernelspec": {
      "name": "python3",
      "display_name": "Python 3"
    },
    "language_info": {
      "name": "python"
    }
  },
  "cells": [
    {
      "cell_type": "markdown",
      "metadata": {
        "id": "view-in-github",
        "colab_type": "text"
      },
      "source": [
        "<a href=\"https://colab.research.google.com/github/tarun10898/python_basics/blob/hashing/Untitled51.ipynb\" target=\"_parent\"><img src=\"https://colab.research.google.com/assets/colab-badge.svg\" alt=\"Open In Colab\"/></a>"
      ]
    },
    {
      "cell_type": "code",
      "execution_count": 1,
      "metadata": {
        "colab": {
          "base_uri": "https://localhost:8080/"
        },
        "id": "YuJUJGTZg5f7",
        "outputId": "d7865847-29e0-4793-960d-30239bfc43cf"
      },
      "outputs": [
        {
          "output_type": "stream",
          "name": "stdout",
          "text": [
            "6442022026463369695\n"
          ]
        }
      ],
      "source": [
        "def dict_hash(d):\n",
        "    hash_values = (hash((k, v)) for k, v in sorted(d.items()))\n",
        "    return hash(tuple(hash_values))\n",
        "\n",
        "my_dict = {'name': 'Alice', 'age': 30}\n",
        "print(dict_hash(my_dict))"
      ]
    }
  ]
}