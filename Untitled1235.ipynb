{
  "nbformat": 4,
  "nbformat_minor": 0,
  "metadata": {
    "colab": {
      "provenance": [],
      "authorship_tag": "ABX9TyNyT/yikCi1gdQzwFvJMUbp",
      "include_colab_link": true
    },
    "kernelspec": {
      "name": "python3",
      "display_name": "Python 3"
    },
    "language_info": {
      "name": "python"
    }
  },
  "cells": [
    {
      "cell_type": "markdown",
      "metadata": {
        "id": "view-in-github",
        "colab_type": "text"
      },
      "source": [
        "<a href=\"https://colab.research.google.com/github/tarun10898/python_basics/blob/binary-search/Untitled1235.ipynb\" target=\"_parent\"><img src=\"https://colab.research.google.com/assets/colab-badge.svg\" alt=\"Open In Colab\"/></a>"
      ]
    },
    {
      "cell_type": "code",
      "execution_count": 1,
      "metadata": {
        "id": "9EBpnRIUizU0"
      },
      "outputs": [],
      "source": [
        "def tree_to_dll(root):\n",
        "    if not root:\n",
        "        return None\n",
        "    # Inorder traversal to convert tree to doubly linked list\n",
        "    def convert(node, prev, head):\n",
        "        if not node:\n",
        "            return prev, head\n",
        "        # Left subtree\n",
        "        prev, head = convert(node.left, prev, head)\n",
        "        # Process current node\n",
        "        if not head:\n",
        "            head = node\n",
        "        if prev:\n",
        "            prev.right = node\n",
        "            node.left = prev\n",
        "        prev = node\n",
        "        # Right subtree\n",
        "        prev, head = convert(node.right, prev, head)\n",
        "        return prev, head\n",
        "\n",
        "    prev, head = None, None\n",
        "    prev, head = convert(root, prev, head)\n",
        "    return head"
      ]
    }
  ]
}