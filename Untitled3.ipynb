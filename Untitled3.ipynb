{
  "nbformat": 4,
  "nbformat_minor": 0,
  "metadata": {
    "colab": {
      "provenance": [],
      "authorship_tag": "ABX9TyMNgnUFLRmStuNab2pLo56r",
      "include_colab_link": true
    },
    "kernelspec": {
      "name": "python3",
      "display_name": "Python 3"
    },
    "language_info": {
      "name": "python"
    }
  },
  "cells": [
    {
      "cell_type": "markdown",
      "metadata": {
        "id": "view-in-github",
        "colab_type": "text"
      },
      "source": [
        "<a href=\"https://colab.research.google.com/github/tarun10898/python_basics/blob/lists/Untitled3.ipynb\" target=\"_parent\"><img src=\"https://colab.research.google.com/assets/colab-badge.svg\" alt=\"Open In Colab\"/></a>"
      ]
    },
    {
      "cell_type": "code",
      "execution_count": 2,
      "metadata": {
        "colab": {
          "base_uri": "https://localhost:8080/"
        },
        "id": "QxRvROLrPnOH",
        "outputId": "7fdafcc8-481a-471a-c9b0-05af1fb075cb"
      },
      "outputs": [
        {
          "output_type": "stream",
          "name": "stdout",
          "text": [
            "Average of the list = 35.75\n"
          ]
        }
      ],
      "source": [
        "# Python code to get average of list\n",
        "def Average(lst):\n",
        "\tsum_of_list = 0\n",
        "\tfor i in range(len(lst)):\n",
        "\t\tsum_of_list += lst[i]\n",
        "\taverage = sum_of_list/len(lst)\n",
        "\treturn average\n",
        "\n",
        "\n",
        "# Driver Code\n",
        "lst = [15, 9, 55, 41, 35, 20, 62, 49]\n",
        "average = Average(lst)\n",
        "print(\"Average of the list =\", round(average, 2))"
      ]
    }
  ]
}