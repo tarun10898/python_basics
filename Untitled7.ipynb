{
  "nbformat": 4,
  "nbformat_minor": 0,
  "metadata": {
    "colab": {
      "provenance": [],
      "authorship_tag": "ABX9TyNw0Aw44Pkjtg+twXxF2vyJ",
      "include_colab_link": true
    },
    "kernelspec": {
      "name": "python3",
      "display_name": "Python 3"
    },
    "language_info": {
      "name": "python"
    }
  },
  "cells": [
    {
      "cell_type": "markdown",
      "metadata": {
        "id": "view-in-github",
        "colab_type": "text"
      },
      "source": [
        "<a href=\"https://colab.research.google.com/github/tarun10898/python_basics/blob/lists/Untitled7.ipynb\" target=\"_parent\"><img src=\"https://colab.research.google.com/assets/colab-badge.svg\" alt=\"Open In Colab\"/></a>"
      ]
    },
    {
      "cell_type": "code",
      "execution_count": 1,
      "metadata": {
        "colab": {
          "base_uri": "https://localhost:8080/"
        },
        "id": "JkOOO9ptKDMA",
        "outputId": "3a173160-78af-4328-850f-17f93bf7e07b"
      },
      "outputs": [
        {
          "output_type": "stream",
          "name": "stdout",
          "text": [
            "10 -> 20 -> 30 -> (Back to Head)\n"
          ]
        }
      ],
      "source": [
        "class Node:\n",
        "    \"\"\"Represents a single node in the circular linked list.\"\"\"\n",
        "    def __init__(self, data):\n",
        "        self.data = data\n",
        "        self.next = None\n",
        "\n",
        "class CircularLinkedList:\n",
        "    \"\"\"Implements a circular linked list with insertion and display operations.\"\"\"\n",
        "    def __init__(self):\n",
        "        self.head = None\n",
        "\n",
        "    def insert_at_end(self, data):\n",
        "        \"\"\"Inserts a node at the end of the circular linked list.\"\"\"\n",
        "        new_node = Node(data)\n",
        "        if not self.head:\n",
        "            self.head = new_node\n",
        "            new_node.next = self.head  # Point to itself\n",
        "        else:\n",
        "            temp = self.head\n",
        "            while temp.next != self.head:  # Traverse till last node\n",
        "                temp = temp.next\n",
        "            temp.next = new_node\n",
        "            new_node.next = self.head  # Make it circular\n",
        "\n",
        "    def display(self):\n",
        "        \"\"\"Displays the circular linked list.\"\"\"\n",
        "        if not self.head:\n",
        "            print(\"Circular linked list is empty!\")\n",
        "            return\n",
        "\n",
        "        temp = self.head\n",
        "        while True:\n",
        "            print(temp.data, end=\" -> \")\n",
        "            temp = temp.next\n",
        "            if temp == self.head:\n",
        "                break  # Stop when we loop back to head\n",
        "        print(\"(Back to Head)\")\n",
        "\n",
        "# Example usage\n",
        "cll = CircularLinkedList()\n",
        "cll.insert_at_end(10)\n",
        "cll.insert_at_end(20)\n",
        "cll.insert_at_end(30)\n",
        "cll.display()"
      ]
    }
  ]
}