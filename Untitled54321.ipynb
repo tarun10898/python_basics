{
  "nbformat": 4,
  "nbformat_minor": 0,
  "metadata": {
    "colab": {
      "provenance": [],
      "authorship_tag": "ABX9TyM4ojOYN9EasNxknsmHbP+z",
      "include_colab_link": true
    },
    "kernelspec": {
      "name": "python3",
      "display_name": "Python 3"
    },
    "language_info": {
      "name": "python"
    }
  },
  "cells": [
    {
      "cell_type": "markdown",
      "metadata": {
        "id": "view-in-github",
        "colab_type": "text"
      },
      "source": [
        "<a href=\"https://colab.research.google.com/github/tarun10898/python_basics/blob/binary-search/Untitled54321.ipynb\" target=\"_parent\"><img src=\"https://colab.research.google.com/assets/colab-badge.svg\" alt=\"Open In Colab\"/></a>"
      ]
    },
    {
      "cell_type": "code",
      "execution_count": 1,
      "metadata": {
        "colab": {
          "base_uri": "https://localhost:8080/"
        },
        "id": "nIfr7SBFX2NQ",
        "outputId": "fa64341f-0b1b-4863-b441-0fdfff502148"
      },
      "outputs": [
        {
          "output_type": "stream",
          "name": "stdout",
          "text": [
            "2\n"
          ]
        }
      ],
      "source": [
        "def min_subarray_length(target, nums):\n",
        "    left = 0\n",
        "    current_sum = 0\n",
        "    min_length = float('inf')\n",
        "\n",
        "    for right in range(len(nums)):\n",
        "        current_sum += nums[right]\n",
        "\n",
        "        while current_sum >= target:  # Shrink the window from left\n",
        "            min_length = min(min_length, right - left + 1)\n",
        "            current_sum -= nums[left]\n",
        "            left += 1\n",
        "\n",
        "    return min_length if min_length != float('inf') else 0\n",
        "\n",
        "# Example Usage\n",
        "nums = [2, 3, 1, 2, 4, 3]\n",
        "target = 7\n",
        "print(min_subarray_length(target, nums))  # Output: 2 (Subarray [4,3] or [3,4])"
      ]
    }
  ]
}