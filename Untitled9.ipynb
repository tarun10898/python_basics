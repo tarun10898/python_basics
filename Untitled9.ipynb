{
  "nbformat": 4,
  "nbformat_minor": 0,
  "metadata": {
    "colab": {
      "provenance": [],
      "authorship_tag": "ABX9TyPs5hVPmU60YrDy6OmeOF4W",
      "include_colab_link": true
    },
    "kernelspec": {
      "name": "python3",
      "display_name": "Python 3"
    },
    "language_info": {
      "name": "python"
    }
  },
  "cells": [
    {
      "cell_type": "markdown",
      "metadata": {
        "id": "view-in-github",
        "colab_type": "text"
      },
      "source": [
        "<a href=\"https://colab.research.google.com/github/tarun10898/python_basics/blob/hashing/Untitled9.ipynb\" target=\"_parent\"><img src=\"https://colab.research.google.com/assets/colab-badge.svg\" alt=\"Open In Colab\"/></a>"
      ]
    },
    {
      "cell_type": "code",
      "execution_count": 1,
      "metadata": {
        "colab": {
          "base_uri": "https://localhost:8080/"
        },
        "id": "i9UrDSxHsRAT",
        "outputId": "f21d940d-8dd4-4730-c511-99fb285dd5d4"
      },
      "outputs": [
        {
          "output_type": "stream",
          "name": "stdout",
          "text": [
            "3\n"
          ]
        }
      ],
      "source": [
        "def moore_voting_algorithm(arr):\n",
        "    candidate, count = None, 0\n",
        "\n",
        "    # Step 1: Finding a potential candidate\n",
        "    for num in arr:\n",
        "        if count == 0:\n",
        "            candidate = num\n",
        "        count += (1 if num == candidate else -1)\n",
        "\n",
        "    # Step 2: Verifying the candidate\n",
        "    if arr.count(candidate) > len(arr) // 2:\n",
        "        return candidate\n",
        "    return None  # No majority element found\n",
        "\n",
        "# Example Usage\n",
        "arr = [3, 3, 4, 2, 3, 3, 3, 2]\n",
        "print(moore_voting_algorithm(arr))  # Output: 3"
      ]
    }
  ]
}