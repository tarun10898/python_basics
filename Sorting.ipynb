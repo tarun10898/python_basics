{
  "nbformat": 4,
  "nbformat_minor": 0,
  "metadata": {
    "colab": {
      "provenance": [],
      "authorship_tag": "ABX9TyM0MeJ2htCZnAeitsOWXDZ7",
      "include_colab_link": true
    },
    "kernelspec": {
      "name": "python3",
      "display_name": "Python 3"
    },
    "language_info": {
      "name": "python"
    }
  },
  "cells": [
    {
      "cell_type": "markdown",
      "metadata": {
        "id": "view-in-github",
        "colab_type": "text"
      },
      "source": [
        "<a href=\"https://colab.research.google.com/github/tarun10898/python_basics/blob/sorting/Sorting.ipynb\" target=\"_parent\"><img src=\"https://colab.research.google.com/assets/colab-badge.svg\" alt=\"Open In Colab\"/></a>"
      ]
    },
    {
      "cell_type": "code",
      "execution_count": 12,
      "metadata": {
        "colab": {
          "base_uri": "https://localhost:8080/"
        },
        "id": "yORXLTaLt4y6",
        "outputId": "fd7fd8a8-9f47-4859-eaa2-a07141b77813"
      },
      "outputs": [
        {
          "output_type": "stream",
          "name": "stdout",
          "text": [
            "Enter numbers separated by spaces: 2 3 3444 4 5 66 7654 88 97 \n",
            "Sorted array: [2, 3, 4, 5, 66, 88, 97, 3444, 7654]\n"
          ]
        }
      ],
      "source": [
        "def selection_sort(arr):\n",
        "    n = len(arr)\n",
        "    for i in range(n - 1):\n",
        "        mini = i\n",
        "        for j in range(i + 1, n):\n",
        "            if arr[j] < arr[mini]:\n",
        "                mini = j\n",
        "\n",
        "\n",
        "        arr[mini], arr[i] = arr[i], arr[mini]\n",
        "\n",
        "\n",
        "arr = list(map(int, input(\"Enter numbers separated by spaces: \").split()))\n",
        "selection_sort(arr)\n",
        "print(\"Sorted array:\", arr)"
      ]
    }
  ]
}