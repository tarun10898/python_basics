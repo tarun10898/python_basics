{
  "nbformat": 4,
  "nbformat_minor": 0,
  "metadata": {
    "colab": {
      "provenance": [],
      "authorship_tag": "ABX9TyN0zWVVnp4Wgq2BrL/qIcoM",
      "include_colab_link": true
    },
    "kernelspec": {
      "name": "python3",
      "display_name": "Python 3"
    },
    "language_info": {
      "name": "python"
    }
  },
  "cells": [
    {
      "cell_type": "markdown",
      "metadata": {
        "id": "view-in-github",
        "colab_type": "text"
      },
      "source": [
        "<a href=\"https://colab.research.google.com/github/tarun10898/python_basics/blob/merge/merge.ipynb\" target=\"_parent\"><img src=\"https://colab.research.google.com/assets/colab-badge.svg\" alt=\"Open In Colab\"/></a>"
      ]
    },
    {
      "cell_type": "code",
      "execution_count": 1,
      "metadata": {
        "colab": {
          "base_uri": "https://localhost:8080/"
        },
        "id": "yD2YNDBmTt0t",
        "outputId": "eebbe596-e741-456b-b6ce-41929074204c"
      },
      "outputs": [
        {
          "output_type": "stream",
          "name": "stdout",
          "text": [
            "Before Sorting Array:\n",
            "9 4 7 6 3 1 5\n",
            "After Sorting Array:\n",
            "1 3 4 5 6 7 9\n"
          ]
        }
      ],
      "source": [
        "def merge(arr, low, mid, high):\n",
        "    temp = []  # temporary array\n",
        "    left = low  # starting index of left half of arr\n",
        "    right = mid + 1  # starting index of right half of arr\n",
        "\n",
        "    # storing elements in the temporary array in a sorted manner\n",
        "    while left <= mid and right <= high:\n",
        "        if arr[left] <= arr[right]:\n",
        "            temp.append(arr[left])\n",
        "            left += 1\n",
        "        else:\n",
        "            temp.append(arr[right])\n",
        "            right += 1\n",
        "\n",
        "    # if elements on the left half are still left\n",
        "    while left <= mid:\n",
        "        temp.append(arr[left])\n",
        "        left += 1\n",
        "\n",
        "    # if elements on the right half are still left\n",
        "    while right <= high:\n",
        "        temp.append(arr[right])\n",
        "        right += 1\n",
        "\n",
        "    # transferring all elements from temporary to arr\n",
        "    for i in range(low, high + 1):\n",
        "        arr[i] = temp[i - low]\n",
        "\n",
        "def merge_sort(arr, low, high):\n",
        "    if low < high:\n",
        "        mid = (low + high) // 2\n",
        "        merge_sort(arr, low, mid)  # left half\n",
        "        merge_sort(arr, mid + 1, high)  # right half\n",
        "        merge(arr, low, mid, high)  # merging sorted halves\n",
        "\n",
        "def main():\n",
        "    arr = [9, 4, 7, 6, 3, 1, 5]\n",
        "    n = len(arr)\n",
        "\n",
        "    print(\"Before Sorting Array:\")\n",
        "    print(*arr)\n",
        "\n",
        "    merge_sort(arr, 0, n - 1)\n",
        "\n",
        "    print(\"After Sorting Array:\")\n",
        "    print(*arr)\n",
        "\n",
        "if __name__ == \"__main__\":\n",
        "    main()"
      ]
    }
  ]
}